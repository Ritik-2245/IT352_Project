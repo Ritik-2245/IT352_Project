{
  "cells": [
    {
      "cell_type": "code",
      "execution_count": 1,
      "metadata": {
        "colab": {
          "base_uri": "https://localhost:8080/"
        },
        "id": "FBo_c94JEjxh",
        "outputId": "85ee0bdb-e010-42a3-9355-2067d857a67c"
      },
      "outputs": [
        {
          "output_type": "stream",
          "name": "stdout",
          "text": [
            "Drive already mounted at /content/drive/; to attempt to forcibly remount, call drive.mount(\"/content/drive/\", force_remount=True).\n"
          ]
        }
      ],
      "source": [
        "from google.colab import drive\n",
        "drive.mount('/content/drive/')"
      ]
    },
    {
      "cell_type": "code",
      "execution_count": 2,
      "metadata": {
        "colab": {
          "base_uri": "https://localhost:8080/"
        },
        "id": "hu2raHB-EyuL",
        "outputId": "a0e4ae57-e43f-49d8-fcc4-dac294a5abe9"
      },
      "outputs": [
        {
          "output_type": "stream",
          "name": "stdout",
          "text": [
            "/content/drive/.shortcut-targets-by-id/1MG5qbQ0whefvbr056GUnZf-XfwttrcXj/project\n"
          ]
        }
      ],
      "source": [
        "%cd '/content/drive/MyDrive/project/'"
      ]
    },
    {
      "cell_type": "code",
      "execution_count": 3,
      "metadata": {
        "id": "ufr5dHUvFyyc"
      },
      "outputs": [],
      "source": [
        "import pandas as pd\n",
        "import numpy as np"
      ]
    },
    {
      "cell_type": "code",
      "execution_count": 4,
      "metadata": {
        "id": "kMnrkCoDt6rO"
      },
      "outputs": [],
      "source": [
        "from tensorflow.keras.preprocessing.text import Tokenizer\n",
        "from tensorflow.keras.preprocessing.sequence import pad_sequences\n"
      ]
    },
    {
      "cell_type": "code",
      "execution_count": 5,
      "metadata": {
        "id": "Ah4vdZqnuBgQ"
      },
      "outputs": [],
      "source": [
        "tokenizer=Tokenizer()"
      ]
    },
    {
      "cell_type": "code",
      "execution_count": 6,
      "metadata": {
        "id": "YMVz2w2JvDNY"
      },
      "outputs": [],
      "source": [
        "\n",
        "dt=pd.read_csv('csic_database.csv')"
      ]
    },
    {
      "cell_type": "code",
      "execution_count": 7,
      "metadata": {
        "colab": {
          "base_uri": "https://localhost:8080/"
        },
        "id": "VDZRQXAcvzBi",
        "outputId": "1a102d4d-9ced-4700-d7dd-ffebbeabd8d5"
      },
      "outputs": [
        {
          "output_type": "execute_result",
          "data": {
            "text/plain": [
              "Index(['type', 'Method', 'User-Agent', 'Pragma', 'Cache-Control', 'Accept',\n",
              "       'Accept-encoding', 'Accept-charset', 'language', 'host', 'cookie',\n",
              "       'content-type', 'connection', 'lenght', 'content', 'classification',\n",
              "       'URL'],\n",
              "      dtype='object')"
            ]
          },
          "metadata": {},
          "execution_count": 7
        }
      ],
      "source": [
        "dt.columns"
      ]
    },
    {
      "cell_type": "code",
      "source": [
        "dt.head()"
      ],
      "metadata": {
        "colab": {
          "base_uri": "https://localhost:8080/",
          "height": 548
        },
        "id": "2tVEb2DyViyW",
        "outputId": "28b4addb-c64c-49e4-b397-79df8060fbb4"
      },
      "execution_count": 8,
      "outputs": [
        {
          "output_type": "execute_result",
          "data": {
            "text/plain": [
              "     type Method                                         User-Agent    Pragma  \\\n",
              "0  Normal    GET  Mozilla/5.0 (compatible; Konqueror/3.5; Linux)...  no-cache   \n",
              "1  Normal    GET  Mozilla/5.0 (compatible; Konqueror/3.5; Linux)...  no-cache   \n",
              "2  Normal   POST  Mozilla/5.0 (compatible; Konqueror/3.5; Linux)...  no-cache   \n",
              "3  Normal    GET  Mozilla/5.0 (compatible; Konqueror/3.5; Linux)...  no-cache   \n",
              "4  Normal   POST  Mozilla/5.0 (compatible; Konqueror/3.5; Linux)...  no-cache   \n",
              "\n",
              "  Cache-Control                                             Accept  \\\n",
              "0      no-cache  text/xml,application/xml,application/xhtml+xml...   \n",
              "1      no-cache  text/xml,application/xml,application/xhtml+xml...   \n",
              "2      no-cache  text/xml,application/xml,application/xhtml+xml...   \n",
              "3      no-cache  text/xml,application/xml,application/xhtml+xml...   \n",
              "4      no-cache  text/xml,application/xml,application/xhtml+xml...   \n",
              "\n",
              "                    Accept-encoding               Accept-charset language  \\\n",
              "0  x-gzip, x-deflate, gzip, deflate  utf-8, utf-8;q=0.5, *;q=0.5       en   \n",
              "1  x-gzip, x-deflate, gzip, deflate  utf-8, utf-8;q=0.5, *;q=0.5       en   \n",
              "2  x-gzip, x-deflate, gzip, deflate  utf-8, utf-8;q=0.5, *;q=0.5       en   \n",
              "3  x-gzip, x-deflate, gzip, deflate  utf-8, utf-8;q=0.5, *;q=0.5       en   \n",
              "4  x-gzip, x-deflate, gzip, deflate  utf-8, utf-8;q=0.5, *;q=0.5       en   \n",
              "\n",
              "             host                                       cookie  \\\n",
              "0  localhost:8080  JSESSIONID=1F767F17239C9B670A39E9B10C3825F4   \n",
              "1  localhost:8080  JSESSIONID=81761ACA043B0E6014CA42A4BCD06AB5   \n",
              "2  localhost:8080  JSESSIONID=933185092E0B668B90676E0A2B0767AF   \n",
              "3  localhost:8080  JSESSIONID=8FA18BA82C5336D03D3A8AFA3E68CBB0   \n",
              "4  localhost:8080  JSESSIONID=7104E6C68A6BCF1423DAE990CE49FEE2   \n",
              "\n",
              "                        content-type         connection              lenght  \\\n",
              "0                                NaN              close                 NaN   \n",
              "1                                NaN              close                 NaN   \n",
              "2  application/x-www-form-urlencoded  Connection: close  Content-Length: 68   \n",
              "3                                NaN              close                 NaN   \n",
              "4  application/x-www-form-urlencoded  Connection: close  Content-Length: 63   \n",
              "\n",
              "                                             content  classification  \\\n",
              "0                                                NaN               0   \n",
              "1                                                NaN               0   \n",
              "2  id=3&nombre=Vino+Rioja&precio=100&cantidad=55&...               0   \n",
              "3                                                NaN               0   \n",
              "4  modo=entrar&login=choong&pwd=d1se3ci%F3n&remem...               0   \n",
              "\n",
              "                                                 URL  \n",
              "0   http://localhost:8080/tienda1/index.jsp HTTP/1.1  \n",
              "1  http://localhost:8080/tienda1/publico/anadir.j...  \n",
              "2  http://localhost:8080/tienda1/publico/anadir.j...  \n",
              "3  http://localhost:8080/tienda1/publico/autentic...  \n",
              "4  http://localhost:8080/tienda1/publico/autentic...  "
            ],
            "text/html": [
              "\n",
              "  <div id=\"df-86ef7eea-c662-4c27-91db-1bcdc0043c59\">\n",
              "    <div class=\"colab-df-container\">\n",
              "      <div>\n",
              "<style scoped>\n",
              "    .dataframe tbody tr th:only-of-type {\n",
              "        vertical-align: middle;\n",
              "    }\n",
              "\n",
              "    .dataframe tbody tr th {\n",
              "        vertical-align: top;\n",
              "    }\n",
              "\n",
              "    .dataframe thead th {\n",
              "        text-align: right;\n",
              "    }\n",
              "</style>\n",
              "<table border=\"1\" class=\"dataframe\">\n",
              "  <thead>\n",
              "    <tr style=\"text-align: right;\">\n",
              "      <th></th>\n",
              "      <th>type</th>\n",
              "      <th>Method</th>\n",
              "      <th>User-Agent</th>\n",
              "      <th>Pragma</th>\n",
              "      <th>Cache-Control</th>\n",
              "      <th>Accept</th>\n",
              "      <th>Accept-encoding</th>\n",
              "      <th>Accept-charset</th>\n",
              "      <th>language</th>\n",
              "      <th>host</th>\n",
              "      <th>cookie</th>\n",
              "      <th>content-type</th>\n",
              "      <th>connection</th>\n",
              "      <th>lenght</th>\n",
              "      <th>content</th>\n",
              "      <th>classification</th>\n",
              "      <th>URL</th>\n",
              "    </tr>\n",
              "  </thead>\n",
              "  <tbody>\n",
              "    <tr>\n",
              "      <th>0</th>\n",
              "      <td>Normal</td>\n",
              "      <td>GET</td>\n",
              "      <td>Mozilla/5.0 (compatible; Konqueror/3.5; Linux)...</td>\n",
              "      <td>no-cache</td>\n",
              "      <td>no-cache</td>\n",
              "      <td>text/xml,application/xml,application/xhtml+xml...</td>\n",
              "      <td>x-gzip, x-deflate, gzip, deflate</td>\n",
              "      <td>utf-8, utf-8;q=0.5, *;q=0.5</td>\n",
              "      <td>en</td>\n",
              "      <td>localhost:8080</td>\n",
              "      <td>JSESSIONID=1F767F17239C9B670A39E9B10C3825F4</td>\n",
              "      <td>NaN</td>\n",
              "      <td>close</td>\n",
              "      <td>NaN</td>\n",
              "      <td>NaN</td>\n",
              "      <td>0</td>\n",
              "      <td>http://localhost:8080/tienda1/index.jsp HTTP/1.1</td>\n",
              "    </tr>\n",
              "    <tr>\n",
              "      <th>1</th>\n",
              "      <td>Normal</td>\n",
              "      <td>GET</td>\n",
              "      <td>Mozilla/5.0 (compatible; Konqueror/3.5; Linux)...</td>\n",
              "      <td>no-cache</td>\n",
              "      <td>no-cache</td>\n",
              "      <td>text/xml,application/xml,application/xhtml+xml...</td>\n",
              "      <td>x-gzip, x-deflate, gzip, deflate</td>\n",
              "      <td>utf-8, utf-8;q=0.5, *;q=0.5</td>\n",
              "      <td>en</td>\n",
              "      <td>localhost:8080</td>\n",
              "      <td>JSESSIONID=81761ACA043B0E6014CA42A4BCD06AB5</td>\n",
              "      <td>NaN</td>\n",
              "      <td>close</td>\n",
              "      <td>NaN</td>\n",
              "      <td>NaN</td>\n",
              "      <td>0</td>\n",
              "      <td>http://localhost:8080/tienda1/publico/anadir.j...</td>\n",
              "    </tr>\n",
              "    <tr>\n",
              "      <th>2</th>\n",
              "      <td>Normal</td>\n",
              "      <td>POST</td>\n",
              "      <td>Mozilla/5.0 (compatible; Konqueror/3.5; Linux)...</td>\n",
              "      <td>no-cache</td>\n",
              "      <td>no-cache</td>\n",
              "      <td>text/xml,application/xml,application/xhtml+xml...</td>\n",
              "      <td>x-gzip, x-deflate, gzip, deflate</td>\n",
              "      <td>utf-8, utf-8;q=0.5, *;q=0.5</td>\n",
              "      <td>en</td>\n",
              "      <td>localhost:8080</td>\n",
              "      <td>JSESSIONID=933185092E0B668B90676E0A2B0767AF</td>\n",
              "      <td>application/x-www-form-urlencoded</td>\n",
              "      <td>Connection: close</td>\n",
              "      <td>Content-Length: 68</td>\n",
              "      <td>id=3&amp;nombre=Vino+Rioja&amp;precio=100&amp;cantidad=55&amp;...</td>\n",
              "      <td>0</td>\n",
              "      <td>http://localhost:8080/tienda1/publico/anadir.j...</td>\n",
              "    </tr>\n",
              "    <tr>\n",
              "      <th>3</th>\n",
              "      <td>Normal</td>\n",
              "      <td>GET</td>\n",
              "      <td>Mozilla/5.0 (compatible; Konqueror/3.5; Linux)...</td>\n",
              "      <td>no-cache</td>\n",
              "      <td>no-cache</td>\n",
              "      <td>text/xml,application/xml,application/xhtml+xml...</td>\n",
              "      <td>x-gzip, x-deflate, gzip, deflate</td>\n",
              "      <td>utf-8, utf-8;q=0.5, *;q=0.5</td>\n",
              "      <td>en</td>\n",
              "      <td>localhost:8080</td>\n",
              "      <td>JSESSIONID=8FA18BA82C5336D03D3A8AFA3E68CBB0</td>\n",
              "      <td>NaN</td>\n",
              "      <td>close</td>\n",
              "      <td>NaN</td>\n",
              "      <td>NaN</td>\n",
              "      <td>0</td>\n",
              "      <td>http://localhost:8080/tienda1/publico/autentic...</td>\n",
              "    </tr>\n",
              "    <tr>\n",
              "      <th>4</th>\n",
              "      <td>Normal</td>\n",
              "      <td>POST</td>\n",
              "      <td>Mozilla/5.0 (compatible; Konqueror/3.5; Linux)...</td>\n",
              "      <td>no-cache</td>\n",
              "      <td>no-cache</td>\n",
              "      <td>text/xml,application/xml,application/xhtml+xml...</td>\n",
              "      <td>x-gzip, x-deflate, gzip, deflate</td>\n",
              "      <td>utf-8, utf-8;q=0.5, *;q=0.5</td>\n",
              "      <td>en</td>\n",
              "      <td>localhost:8080</td>\n",
              "      <td>JSESSIONID=7104E6C68A6BCF1423DAE990CE49FEE2</td>\n",
              "      <td>application/x-www-form-urlencoded</td>\n",
              "      <td>Connection: close</td>\n",
              "      <td>Content-Length: 63</td>\n",
              "      <td>modo=entrar&amp;login=choong&amp;pwd=d1se3ci%F3n&amp;remem...</td>\n",
              "      <td>0</td>\n",
              "      <td>http://localhost:8080/tienda1/publico/autentic...</td>\n",
              "    </tr>\n",
              "  </tbody>\n",
              "</table>\n",
              "</div>\n",
              "      <button class=\"colab-df-convert\" onclick=\"convertToInteractive('df-86ef7eea-c662-4c27-91db-1bcdc0043c59')\"\n",
              "              title=\"Convert this dataframe to an interactive table.\"\n",
              "              style=\"display:none;\">\n",
              "        \n",
              "  <svg xmlns=\"http://www.w3.org/2000/svg\" height=\"24px\"viewBox=\"0 0 24 24\"\n",
              "       width=\"24px\">\n",
              "    <path d=\"M0 0h24v24H0V0z\" fill=\"none\"/>\n",
              "    <path d=\"M18.56 5.44l.94 2.06.94-2.06 2.06-.94-2.06-.94-.94-2.06-.94 2.06-2.06.94zm-11 1L8.5 8.5l.94-2.06 2.06-.94-2.06-.94L8.5 2.5l-.94 2.06-2.06.94zm10 10l.94 2.06.94-2.06 2.06-.94-2.06-.94-.94-2.06-.94 2.06-2.06.94z\"/><path d=\"M17.41 7.96l-1.37-1.37c-.4-.4-.92-.59-1.43-.59-.52 0-1.04.2-1.43.59L10.3 9.45l-7.72 7.72c-.78.78-.78 2.05 0 2.83L4 21.41c.39.39.9.59 1.41.59.51 0 1.02-.2 1.41-.59l7.78-7.78 2.81-2.81c.8-.78.8-2.07 0-2.86zM5.41 20L4 18.59l7.72-7.72 1.47 1.35L5.41 20z\"/>\n",
              "  </svg>\n",
              "      </button>\n",
              "      \n",
              "  <style>\n",
              "    .colab-df-container {\n",
              "      display:flex;\n",
              "      flex-wrap:wrap;\n",
              "      gap: 12px;\n",
              "    }\n",
              "\n",
              "    .colab-df-convert {\n",
              "      background-color: #E8F0FE;\n",
              "      border: none;\n",
              "      border-radius: 50%;\n",
              "      cursor: pointer;\n",
              "      display: none;\n",
              "      fill: #1967D2;\n",
              "      height: 32px;\n",
              "      padding: 0 0 0 0;\n",
              "      width: 32px;\n",
              "    }\n",
              "\n",
              "    .colab-df-convert:hover {\n",
              "      background-color: #E2EBFA;\n",
              "      box-shadow: 0px 1px 2px rgba(60, 64, 67, 0.3), 0px 1px 3px 1px rgba(60, 64, 67, 0.15);\n",
              "      fill: #174EA6;\n",
              "    }\n",
              "\n",
              "    [theme=dark] .colab-df-convert {\n",
              "      background-color: #3B4455;\n",
              "      fill: #D2E3FC;\n",
              "    }\n",
              "\n",
              "    [theme=dark] .colab-df-convert:hover {\n",
              "      background-color: #434B5C;\n",
              "      box-shadow: 0px 1px 3px 1px rgba(0, 0, 0, 0.15);\n",
              "      filter: drop-shadow(0px 1px 2px rgba(0, 0, 0, 0.3));\n",
              "      fill: #FFFFFF;\n",
              "    }\n",
              "  </style>\n",
              "\n",
              "      <script>\n",
              "        const buttonEl =\n",
              "          document.querySelector('#df-86ef7eea-c662-4c27-91db-1bcdc0043c59 button.colab-df-convert');\n",
              "        buttonEl.style.display =\n",
              "          google.colab.kernel.accessAllowed ? 'block' : 'none';\n",
              "\n",
              "        async function convertToInteractive(key) {\n",
              "          const element = document.querySelector('#df-86ef7eea-c662-4c27-91db-1bcdc0043c59');\n",
              "          const dataTable =\n",
              "            await google.colab.kernel.invokeFunction('convertToInteractive',\n",
              "                                                     [key], {});\n",
              "          if (!dataTable) return;\n",
              "\n",
              "          const docLinkHtml = 'Like what you see? Visit the ' +\n",
              "            '<a target=\"_blank\" href=https://colab.research.google.com/notebooks/data_table.ipynb>data table notebook</a>'\n",
              "            + ' to learn more about interactive tables.';\n",
              "          element.innerHTML = '';\n",
              "          dataTable['output_type'] = 'display_data';\n",
              "          await google.colab.output.renderOutput(dataTable, element);\n",
              "          const docLink = document.createElement('div');\n",
              "          docLink.innerHTML = docLinkHtml;\n",
              "          element.appendChild(docLink);\n",
              "        }\n",
              "      </script>\n",
              "    </div>\n",
              "  </div>\n",
              "  "
            ]
          },
          "metadata": {},
          "execution_count": 8
        }
      ]
    },
    {
      "cell_type": "code",
      "execution_count": 9,
      "metadata": {
        "colab": {
          "base_uri": "https://localhost:8080/"
        },
        "id": "qUKBL18Bv0yh",
        "outputId": "2405b204-4b79-4e11-dbac-7e5bc3dceca4"
      },
      "outputs": [
        {
          "output_type": "execute_result",
          "data": {
            "text/plain": [
              "61065"
            ]
          },
          "metadata": {},
          "execution_count": 9
        }
      ],
      "source": [
        "len(dt)"
      ]
    },
    {
      "cell_type": "code",
      "execution_count": 10,
      "metadata": {
        "id": "QEEj9NN7zZnZ"
      },
      "outputs": [],
      "source": [
        "# x=['method','accept','acceptEncoding','acceptLanguage','userAgent','url']\n",
        "x=['Method','Accept','Accept-encoding','language','User-Agent','URL']\n"
      ]
    },
    {
      "cell_type": "code",
      "execution_count": 11,
      "metadata": {
        "id": "xxXKQnFG1ZxX"
      },
      "outputs": [],
      "source": [
        "data=dt[x].astype(str)"
      ]
    },
    {
      "cell_type": "code",
      "execution_count": 12,
      "metadata": {
        "id": "C1oteQWAFqh8"
      },
      "outputs": [],
      "source": [
        "x_data=[]\n",
        "\n",
        "for s in data.values:\n",
        "  d=\"\"\n",
        "  z=0\n",
        "  for i in s:\n",
        "    d+=x[z]+\" : \"+i+\" \\n\"\n",
        "    z+=1\n",
        "  d=d.replace('HTTP/1.1 ',\"\")\n",
        "  x_data.append(d)\n",
        "  # print(s)\n",
        "\n",
        "tokenizer.fit_on_texts(x_data)"
      ]
    },
    {
      "cell_type": "code",
      "execution_count": 13,
      "metadata": {
        "colab": {
          "base_uri": "https://localhost:8080/"
        },
        "id": "cQenIIPD1qBU",
        "outputId": "d5832fd5-a2af-42cf-b920-1453730a2f1d"
      },
      "outputs": [
        {
          "output_type": "stream",
          "name": "stdout",
          "text": [
            "34593\n"
          ]
        }
      ],
      "source": [
        "vocab_size=len(tokenizer.word_counts)\n",
        "print(vocab_size)"
      ]
    },
    {
      "cell_type": "code",
      "execution_count": 14,
      "metadata": {
        "colab": {
          "base_uri": "https://localhost:8080/"
        },
        "id": "sKbU-4hXt10a",
        "outputId": "70978bd0-e90b-4152-8c69-8326366c73f8"
      },
      "outputs": [
        {
          "output_type": "stream",
          "name": "stdout",
          "text": [
            "Method : GET \n",
            "Accept : text/xml,application/xml,application/xhtml+xml,text/html;q=0.9,text/plain;q=0.8,image/png,*/*;q=0.5 \n",
            "Accept-encoding : x-gzip, x-deflate, gzip, deflate \n",
            "language : en \n",
            "User-Agent : Mozilla/5.0 (compatible; Konqueror/3.5; Linux) KHTML/3.5.8 (like Gecko) \n",
            "URL : http://localhost:8080/tienda1/index.jsp \n",
            " Method : GET \n",
            "Accept : text/xml,application/xml,application/xhtml+xml,text/html;q=0.9,text/plain;q=0.8,image/png,*/*;q=0.5 \n",
            "Accept-encoding : x-gzip, x-deflate, gzip, deflate \n",
            "language : en \n",
            "User-Agent : Mozilla/5.0 (compatible; Konqueror/3.5; Linux) KHTML/3.5.8 (like Gecko) \n",
            "URL : http://localhost:8080/tienda1/publico/anadir.jsp?id=3&nombre=Vino+Rioja&precio=100&cantidad=55&B1=A%F1adir+al+carrito \n",
            " Method : POST \n",
            "Accept : text/xml,application/xml,application/xhtml+xml,text/html;q=0.9,text/plain;q=0.8,image/png,*/*;q=0.5 \n",
            "Accept-encoding : x-gzip, x-deflate, gzip, deflate \n",
            "language : en \n",
            "User-Agent : Mozilla/5.0 (compatible; Konqueror/3.5; Linux) KHTML/3.5.8 (like Gecko) \n",
            "URL : http://localhost:8080/tienda1/publico/anadir.jsp \n",
            " Method : GET \n",
            "Accept : text/xml,application/xml,application/xhtml+xml,text/html;q=0.9,text/plain;q=0.8,image/png,*/*;q=0.5 \n",
            "Accept-encoding : x-gzip, x-deflate, gzip, deflate \n",
            "language : en \n",
            "User-Agent : Mozilla/5.0 (compatible; Konqueror/3.5; Linux) KHTML/3.5.8 (like Gecko) \n",
            "URL : http://localhost:8080/tienda1/publico/autenticar.jsp?modo=entrar&login=choong&pwd=d1se3ci%F3n&remember=off&B1=Entrar \n",
            " Method : POST \n",
            "Accept : text/xml,application/xml,application/xhtml+xml,text/html;q=0.9,text/plain;q=0.8,image/png,*/*;q=0.5 \n",
            "Accept-encoding : x-gzip, x-deflate, gzip, deflate \n",
            "language : en \n",
            "User-Agent : Mozilla/5.0 (compatible; Konqueror/3.5; Linux) KHTML/3.5.8 (like Gecko) \n",
            "URL : http://localhost:8080/tienda1/publico/autenticar.jsp \n",
            "\n"
          ]
        }
      ],
      "source": [
        "print(*x_data[:5])"
      ]
    },
    {
      "cell_type": "code",
      "execution_count": 15,
      "metadata": {
        "colab": {
          "base_uri": "https://localhost:8080/",
          "height": 337
        },
        "id": "l74UENnX9Pck",
        "outputId": "f9f74153-d5ee-4610-f70d-7775a8a2935c"
      },
      "outputs": [
        {
          "output_type": "execute_result",
          "data": {
            "text/plain": [
              "  Method                                             Accept  \\\n",
              "0    GET  text/xml,application/xml,application/xhtml+xml...   \n",
              "1    GET  text/xml,application/xml,application/xhtml+xml...   \n",
              "2   POST  text/xml,application/xml,application/xhtml+xml...   \n",
              "3    GET  text/xml,application/xml,application/xhtml+xml...   \n",
              "4   POST  text/xml,application/xml,application/xhtml+xml...   \n",
              "\n",
              "                    Accept-encoding language  \\\n",
              "0  x-gzip, x-deflate, gzip, deflate       en   \n",
              "1  x-gzip, x-deflate, gzip, deflate       en   \n",
              "2  x-gzip, x-deflate, gzip, deflate       en   \n",
              "3  x-gzip, x-deflate, gzip, deflate       en   \n",
              "4  x-gzip, x-deflate, gzip, deflate       en   \n",
              "\n",
              "                                          User-Agent  \\\n",
              "0  Mozilla/5.0 (compatible; Konqueror/3.5; Linux)...   \n",
              "1  Mozilla/5.0 (compatible; Konqueror/3.5; Linux)...   \n",
              "2  Mozilla/5.0 (compatible; Konqueror/3.5; Linux)...   \n",
              "3  Mozilla/5.0 (compatible; Konqueror/3.5; Linux)...   \n",
              "4  Mozilla/5.0 (compatible; Konqueror/3.5; Linux)...   \n",
              "\n",
              "                                                 URL  \n",
              "0   http://localhost:8080/tienda1/index.jsp HTTP/1.1  \n",
              "1  http://localhost:8080/tienda1/publico/anadir.j...  \n",
              "2  http://localhost:8080/tienda1/publico/anadir.j...  \n",
              "3  http://localhost:8080/tienda1/publico/autentic...  \n",
              "4  http://localhost:8080/tienda1/publico/autentic...  "
            ],
            "text/html": [
              "\n",
              "  <div id=\"df-72e53424-8920-4362-afb3-c8ec314afb1b\">\n",
              "    <div class=\"colab-df-container\">\n",
              "      <div>\n",
              "<style scoped>\n",
              "    .dataframe tbody tr th:only-of-type {\n",
              "        vertical-align: middle;\n",
              "    }\n",
              "\n",
              "    .dataframe tbody tr th {\n",
              "        vertical-align: top;\n",
              "    }\n",
              "\n",
              "    .dataframe thead th {\n",
              "        text-align: right;\n",
              "    }\n",
              "</style>\n",
              "<table border=\"1\" class=\"dataframe\">\n",
              "  <thead>\n",
              "    <tr style=\"text-align: right;\">\n",
              "      <th></th>\n",
              "      <th>Method</th>\n",
              "      <th>Accept</th>\n",
              "      <th>Accept-encoding</th>\n",
              "      <th>language</th>\n",
              "      <th>User-Agent</th>\n",
              "      <th>URL</th>\n",
              "    </tr>\n",
              "  </thead>\n",
              "  <tbody>\n",
              "    <tr>\n",
              "      <th>0</th>\n",
              "      <td>GET</td>\n",
              "      <td>text/xml,application/xml,application/xhtml+xml...</td>\n",
              "      <td>x-gzip, x-deflate, gzip, deflate</td>\n",
              "      <td>en</td>\n",
              "      <td>Mozilla/5.0 (compatible; Konqueror/3.5; Linux)...</td>\n",
              "      <td>http://localhost:8080/tienda1/index.jsp HTTP/1.1</td>\n",
              "    </tr>\n",
              "    <tr>\n",
              "      <th>1</th>\n",
              "      <td>GET</td>\n",
              "      <td>text/xml,application/xml,application/xhtml+xml...</td>\n",
              "      <td>x-gzip, x-deflate, gzip, deflate</td>\n",
              "      <td>en</td>\n",
              "      <td>Mozilla/5.0 (compatible; Konqueror/3.5; Linux)...</td>\n",
              "      <td>http://localhost:8080/tienda1/publico/anadir.j...</td>\n",
              "    </tr>\n",
              "    <tr>\n",
              "      <th>2</th>\n",
              "      <td>POST</td>\n",
              "      <td>text/xml,application/xml,application/xhtml+xml...</td>\n",
              "      <td>x-gzip, x-deflate, gzip, deflate</td>\n",
              "      <td>en</td>\n",
              "      <td>Mozilla/5.0 (compatible; Konqueror/3.5; Linux)...</td>\n",
              "      <td>http://localhost:8080/tienda1/publico/anadir.j...</td>\n",
              "    </tr>\n",
              "    <tr>\n",
              "      <th>3</th>\n",
              "      <td>GET</td>\n",
              "      <td>text/xml,application/xml,application/xhtml+xml...</td>\n",
              "      <td>x-gzip, x-deflate, gzip, deflate</td>\n",
              "      <td>en</td>\n",
              "      <td>Mozilla/5.0 (compatible; Konqueror/3.5; Linux)...</td>\n",
              "      <td>http://localhost:8080/tienda1/publico/autentic...</td>\n",
              "    </tr>\n",
              "    <tr>\n",
              "      <th>4</th>\n",
              "      <td>POST</td>\n",
              "      <td>text/xml,application/xml,application/xhtml+xml...</td>\n",
              "      <td>x-gzip, x-deflate, gzip, deflate</td>\n",
              "      <td>en</td>\n",
              "      <td>Mozilla/5.0 (compatible; Konqueror/3.5; Linux)...</td>\n",
              "      <td>http://localhost:8080/tienda1/publico/autentic...</td>\n",
              "    </tr>\n",
              "  </tbody>\n",
              "</table>\n",
              "</div>\n",
              "      <button class=\"colab-df-convert\" onclick=\"convertToInteractive('df-72e53424-8920-4362-afb3-c8ec314afb1b')\"\n",
              "              title=\"Convert this dataframe to an interactive table.\"\n",
              "              style=\"display:none;\">\n",
              "        \n",
              "  <svg xmlns=\"http://www.w3.org/2000/svg\" height=\"24px\"viewBox=\"0 0 24 24\"\n",
              "       width=\"24px\">\n",
              "    <path d=\"M0 0h24v24H0V0z\" fill=\"none\"/>\n",
              "    <path d=\"M18.56 5.44l.94 2.06.94-2.06 2.06-.94-2.06-.94-.94-2.06-.94 2.06-2.06.94zm-11 1L8.5 8.5l.94-2.06 2.06-.94-2.06-.94L8.5 2.5l-.94 2.06-2.06.94zm10 10l.94 2.06.94-2.06 2.06-.94-2.06-.94-.94-2.06-.94 2.06-2.06.94z\"/><path d=\"M17.41 7.96l-1.37-1.37c-.4-.4-.92-.59-1.43-.59-.52 0-1.04.2-1.43.59L10.3 9.45l-7.72 7.72c-.78.78-.78 2.05 0 2.83L4 21.41c.39.39.9.59 1.41.59.51 0 1.02-.2 1.41-.59l7.78-7.78 2.81-2.81c.8-.78.8-2.07 0-2.86zM5.41 20L4 18.59l7.72-7.72 1.47 1.35L5.41 20z\"/>\n",
              "  </svg>\n",
              "      </button>\n",
              "      \n",
              "  <style>\n",
              "    .colab-df-container {\n",
              "      display:flex;\n",
              "      flex-wrap:wrap;\n",
              "      gap: 12px;\n",
              "    }\n",
              "\n",
              "    .colab-df-convert {\n",
              "      background-color: #E8F0FE;\n",
              "      border: none;\n",
              "      border-radius: 50%;\n",
              "      cursor: pointer;\n",
              "      display: none;\n",
              "      fill: #1967D2;\n",
              "      height: 32px;\n",
              "      padding: 0 0 0 0;\n",
              "      width: 32px;\n",
              "    }\n",
              "\n",
              "    .colab-df-convert:hover {\n",
              "      background-color: #E2EBFA;\n",
              "      box-shadow: 0px 1px 2px rgba(60, 64, 67, 0.3), 0px 1px 3px 1px rgba(60, 64, 67, 0.15);\n",
              "      fill: #174EA6;\n",
              "    }\n",
              "\n",
              "    [theme=dark] .colab-df-convert {\n",
              "      background-color: #3B4455;\n",
              "      fill: #D2E3FC;\n",
              "    }\n",
              "\n",
              "    [theme=dark] .colab-df-convert:hover {\n",
              "      background-color: #434B5C;\n",
              "      box-shadow: 0px 1px 3px 1px rgba(0, 0, 0, 0.15);\n",
              "      filter: drop-shadow(0px 1px 2px rgba(0, 0, 0, 0.3));\n",
              "      fill: #FFFFFF;\n",
              "    }\n",
              "  </style>\n",
              "\n",
              "      <script>\n",
              "        const buttonEl =\n",
              "          document.querySelector('#df-72e53424-8920-4362-afb3-c8ec314afb1b button.colab-df-convert');\n",
              "        buttonEl.style.display =\n",
              "          google.colab.kernel.accessAllowed ? 'block' : 'none';\n",
              "\n",
              "        async function convertToInteractive(key) {\n",
              "          const element = document.querySelector('#df-72e53424-8920-4362-afb3-c8ec314afb1b');\n",
              "          const dataTable =\n",
              "            await google.colab.kernel.invokeFunction('convertToInteractive',\n",
              "                                                     [key], {});\n",
              "          if (!dataTable) return;\n",
              "\n",
              "          const docLinkHtml = 'Like what you see? Visit the ' +\n",
              "            '<a target=\"_blank\" href=https://colab.research.google.com/notebooks/data_table.ipynb>data table notebook</a>'\n",
              "            + ' to learn more about interactive tables.';\n",
              "          element.innerHTML = '';\n",
              "          dataTable['output_type'] = 'display_data';\n",
              "          await google.colab.output.renderOutput(dataTable, element);\n",
              "          const docLink = document.createElement('div');\n",
              "          docLink.innerHTML = docLinkHtml;\n",
              "          element.appendChild(docLink);\n",
              "        }\n",
              "      </script>\n",
              "    </div>\n",
              "  </div>\n",
              "  "
            ]
          },
          "metadata": {},
          "execution_count": 15
        }
      ],
      "source": [
        "data.head()"
      ]
    },
    {
      "cell_type": "markdown",
      "metadata": {
        "id": "wwDTOCGwTVPo"
      },
      "source": [
        "## order Method + Accept + Accept-encoding + language + User-Agent+ URL\n"
      ]
    },
    {
      "cell_type": "code",
      "execution_count": 16,
      "metadata": {
        "id": "I-j3KXZG9trf"
      },
      "outputs": [],
      "source": [
        "padded=tokenizer.texts_to_sequences(x_data)"
      ]
    },
    {
      "cell_type": "code",
      "execution_count": 17,
      "metadata": {
        "colab": {
          "base_uri": "https://localhost:8080/"
        },
        "id": "DYlQsmT4Leto",
        "outputId": "9d4ecdc1-2ec1-4193-cd9b-93e9dfd63162"
      },
      "outputs": [
        {
          "output_type": "execute_result",
          "data": {
            "text/plain": [
              "58"
            ]
          },
          "metadata": {},
          "execution_count": 17
        }
      ],
      "source": [
        "len(padded[0])\n"
      ]
    },
    {
      "cell_type": "code",
      "execution_count": 18,
      "metadata": {
        "id": "mO7K51l8Lnpy"
      },
      "outputs": [],
      "source": [
        "padded=pad_sequences(padded)"
      ]
    },
    {
      "cell_type": "code",
      "execution_count": 19,
      "metadata": {
        "colab": {
          "base_uri": "https://localhost:8080/"
        },
        "id": "binQxMg6OQ_i",
        "outputId": "2530dad5-0ff4-4c68-ef65-977cd74aa1b6"
      },
      "outputs": [
        {
          "output_type": "stream",
          "name": "stdout",
          "text": [
            "211 (61065, 211)\n"
          ]
        }
      ],
      "source": [
        "input_len=padded.shape[1]\n",
        "print(input_len,padded.shape)"
      ]
    },
    {
      "cell_type": "code",
      "execution_count": 20,
      "metadata": {
        "id": "HIVltTRjcylC"
      },
      "outputs": [],
      "source": [
        "padded=np.reshape(padded,(-1,padded.shape[1],1))"
      ]
    },
    {
      "cell_type": "code",
      "execution_count": 21,
      "metadata": {
        "colab": {
          "base_uri": "https://localhost:8080/"
        },
        "id": "F3d4LrK3Y5zQ",
        "outputId": "f7a4e02f-546f-497c-f5e1-ca8c7fbd4236"
      },
      "outputs": [
        {
          "output_type": "stream",
          "name": "stdout",
          "text": [
            "Model: \"model\"\n",
            "_________________________________________________________________\n",
            " Layer (type)                Output Shape              Param #   \n",
            "=================================================================\n",
            " input_1 (InputLayer)        [(None, 211)]             0         \n",
            "                                                                 \n",
            " embedding (Embedding)       (None, 211, 50)           1729700   \n",
            "                                                                 \n",
            " dropout (Dropout)           (None, 211, 50)           0         \n",
            "                                                                 \n",
            " conv1d (Conv1D)             (None, 209, 250)          37750     \n",
            "                                                                 \n",
            " global_max_pooling1d (Globa  (None, 250)              0         \n",
            " lMaxPooling1D)                                                  \n",
            "                                                                 \n",
            " dense (Dense)               (None, 250)               62750     \n",
            "                                                                 \n",
            " dropout_1 (Dropout)         (None, 250)               0         \n",
            "                                                                 \n",
            " dense_1 (Dense)             (None, 2)                 502       \n",
            "                                                                 \n",
            "=================================================================\n",
            "Total params: 1,830,702\n",
            "Trainable params: 1,830,702\n",
            "Non-trainable params: 0\n",
            "_________________________________________________________________\n"
          ]
        }
      ],
      "source": [
        "import tensorflow as tf\n",
        "\n",
        "# Define the input shape\n",
        "input_shape = (input_len,)\n",
        "\n",
        "# Define the model architecture\n",
        "inputs = tf.keras.Input(shape=input_shape)\n",
        "x = tf.keras.layers.Embedding(vocab_size+1, 50, input_length=input_len)(inputs)\n",
        "x = tf.keras.layers.Dropout(rate=0.2)(x)\n",
        "x = tf.keras.layers.Conv1D(filters=250, kernel_size=3, activation='relu', padding='valid')(x)\n",
        "x = tf.keras.layers.GlobalMaxPooling1D()(x)\n",
        "x = tf.keras.layers.Dense(units=250, activation='relu')(x)\n",
        "x = tf.keras.layers.Dropout(rate=0.2)(x)\n",
        "outputs = tf.keras.layers.Dense(units=2, activation='softmax')(x)\n",
        "\n",
        "# Define the model\n",
        "model = tf.keras.Model(inputs=inputs, outputs=outputs)\n",
        "\n",
        "# Compile the model\n",
        "model.compile(optimizer='adam', loss='categorical_crossentropy', metrics=['accuracy'])\n",
        "\n",
        "# Print the model summary\n",
        "model.summary()\n",
        "\n"
      ]
    },
    {
      "cell_type": "code",
      "execution_count": 22,
      "metadata": {
        "colab": {
          "base_uri": "https://localhost:8080/"
        },
        "id": "EGKzFifjwD2O",
        "outputId": "9a83bc9d-c648-4917-ca2e-e8df249c90b6"
      },
      "outputs": [
        {
          "output_type": "stream",
          "name": "stdout",
          "text": [
            "/content/drive/MyDrive/dataset\n"
          ]
        }
      ],
      "source": [
        "%cd \"/content/drive/MyDrive/dataset\""
      ]
    },
    {
      "cell_type": "code",
      "execution_count": 23,
      "metadata": {
        "colab": {
          "base_uri": "https://localhost:8080/",
          "height": 865
        },
        "id": "B5U5Bzmvvgjy",
        "outputId": "61d3024e-438c-418b-b223-4e134b9b739e"
      },
      "outputs": [
        {
          "output_type": "execute_result",
          "data": {
            "image/png": "[encoded data removed]",
            "text/plain": [
              "<IPython.core.display.Image object>"
            ]
          },
          "metadata": {},
          "execution_count": 23
        }
      ],
      "source": [
        "from tensorflow.keras.utils import plot_model\n",
        "\n",
        "\n",
        "plot_model(model,show_shapes=True)"
      ]
    },
    {
      "cell_type": "code",
      "source": [
        "dt['type'].unique"
      ],
      "metadata": {
        "colab": {
          "base_uri": "https://localhost:8080/"
        },
        "id": "cgSSxb1CVRbw",
        "outputId": "d76fe6ec-2455-4f51-9616-b13d02f274c0"
      },
      "execution_count": 24,
      "outputs": [
        {
          "output_type": "execute_result",
          "data": {
            "text/plain": [
              "<bound method Series.unique of 0           Normal\n",
              "1           Normal\n",
              "2           Normal\n",
              "3           Normal\n",
              "4           Normal\n",
              "           ...    \n",
              "61060    Anomalous\n",
              "61061    Anomalous\n",
              "61062    Anomalous\n",
              "61063    Anomalous\n",
              "61064    Anomalous\n",
              "Name: type, Length: 61065, dtype: object>"
            ]
          },
          "metadata": {},
          "execution_count": 24
        }
      ]
    },
    {
      "cell_type": "code",
      "execution_count": 25,
      "metadata": {
        "id": "1xvkuZtVOhxU",
        "colab": {
          "base_uri": "https://localhost:8080/"
        },
        "outputId": "86909145-07ea-4608-f688-7a68dbf8b1d5"
      },
      "outputs": [
        {
          "output_type": "stream",
          "name": "stdout",
          "text": [
            "Normal value :  [1]\n",
            "Anomalous value :  [0]\n"
          ]
        }
      ],
      "source": [
        "from tensorflow.keras.utils import to_categorical\n",
        "from sklearn.preprocessing import LabelEncoder\n",
        "\n",
        "en=LabelEncoder()\n",
        "en.fit(dt['type'])\n",
        "print('Normal',\"value : \",en.transform(['Normal']))\n",
        "print('Anomalous',\"value : \",en.transform(['Anomalous']))\n",
        "z=en.transform(dt['type'])\n",
        "\n",
        "y=to_categorical(z)"
      ]
    },
    {
      "cell_type": "code",
      "execution_count": 26,
      "metadata": {
        "colab": {
          "base_uri": "https://localhost:8080/"
        },
        "id": "2GNblRUYi1p7",
        "outputId": "cd58f0fc-2fa0-4341-d7d4-20c2e6960784"
      },
      "outputs": [
        {
          "output_type": "execute_result",
          "data": {
            "text/plain": [
              "array([[0., 1.],\n",
              "       [0., 1.],\n",
              "       [0., 1.],\n",
              "       ...,\n",
              "       [1., 0.],\n",
              "       [1., 0.],\n",
              "       [1., 0.]], dtype=float32)"
            ]
          },
          "metadata": {},
          "execution_count": 26
        }
      ],
      "source": [
        "y"
      ]
    },
    {
      "cell_type": "markdown",
      "source": [
        "# normal =[0,1] and anomalous=[1,0]"
      ],
      "metadata": {
        "id": "5VwIyX-MWU4I"
      }
    },
    {
      "cell_type": "code",
      "execution_count": 27,
      "metadata": {
        "id": "d7pxk86dl5et"
      },
      "outputs": [],
      "source": [
        "from sklearn.model_selection import train_test_split\n",
        "\n",
        "X_train, X_test, y_train, y_test = train_test_split(padded, y, test_size=0.4, random_state=42,stratify=y,shuffle=True)\n",
        "x_val,x_test,y_val,y_test=train_test_split(X_test,y_test,test_size=0.5,random_state=42,stratify=y_test,shuffle=True)\n"
      ]
    },
    {
      "cell_type": "code",
      "source": [
        "epochs=50"
      ],
      "metadata": {
        "id": "SHzUxClo40wY"
      },
      "execution_count": 28,
      "outputs": []
    },
    {
      "cell_type": "code",
      "execution_count": 29,
      "metadata": {
        "colab": {
          "base_uri": "https://localhost:8080/"
        },
        "id": "ooMef9B5R2iR",
        "outputId": "6eedd4fa-9ea5-4d5f-86ad-4d25cad2560e"
      },
      "outputs": [
        {
          "output_type": "stream",
          "name": "stdout",
          "text": [
            "Epoch 1/50\n",
            "37/37 [==============================] - 12s 232ms/step - loss: 0.6427 - accuracy: 0.6068 - val_loss: 0.5268 - val_accuracy: 0.7115\n",
            "Epoch 2/50\n",
            "37/37 [==============================] - 6s 173ms/step - loss: 0.3773 - accuracy: 0.7875 - val_loss: 0.2573 - val_accuracy: 0.8506\n",
            "Epoch 3/50\n",
            "37/37 [==============================] - 7s 195ms/step - loss: 0.2452 - accuracy: 0.8524 - val_loss: 0.2422 - val_accuracy: 0.8556\n",
            "Epoch 4/50\n",
            "37/37 [==============================] - 6s 150ms/step - loss: 0.2247 - accuracy: 0.8622 - val_loss: 0.2475 - val_accuracy: 0.8278\n",
            "Epoch 5/50\n",
            "37/37 [==============================] - 7s 183ms/step - loss: 0.2188 - accuracy: 0.8615 - val_loss: 0.2414 - val_accuracy: 0.8570\n",
            "Epoch 6/50\n",
            "37/37 [==============================] - 5s 139ms/step - loss: 0.2160 - accuracy: 0.8627 - val_loss: 0.2381 - val_accuracy: 0.8585\n",
            "Epoch 7/50\n",
            "37/37 [==============================] - 7s 177ms/step - loss: 0.2144 - accuracy: 0.8649 - val_loss: 0.2439 - val_accuracy: 0.8652\n",
            "Epoch 8/50\n",
            "37/37 [==============================] - 4s 116ms/step - loss: 0.2128 - accuracy: 0.8676 - val_loss: 0.2389 - val_accuracy: 0.8625\n",
            "Epoch 9/50\n",
            "37/37 [==============================] - 5s 150ms/step - loss: 0.2139 - accuracy: 0.8644 - val_loss: 0.2395 - val_accuracy: 0.8586\n",
            "Epoch 10/50\n",
            "37/37 [==============================] - 5s 148ms/step - loss: 0.2119 - accuracy: 0.8697 - val_loss: 0.2403 - val_accuracy: 0.8625\n",
            "Epoch 11/50\n",
            "37/37 [==============================] - 4s 106ms/step - loss: 0.2121 - accuracy: 0.8678 - val_loss: 0.2435 - val_accuracy: 0.8657\n",
            "Epoch 12/50\n",
            "37/37 [==============================] - 4s 121ms/step - loss: 0.2114 - accuracy: 0.8670 - val_loss: 0.2444 - val_accuracy: 0.8624\n",
            "Epoch 13/50\n",
            "37/37 [==============================] - 4s 118ms/step - loss: 0.2105 - accuracy: 0.8700 - val_loss: 0.2440 - val_accuracy: 0.8626\n",
            "Epoch 14/50\n",
            "37/37 [==============================] - 4s 99ms/step - loss: 0.2111 - accuracy: 0.8695 - val_loss: 0.2445 - val_accuracy: 0.8656\n",
            "Epoch 15/50\n",
            "37/37 [==============================] - 5s 138ms/step - loss: 0.2106 - accuracy: 0.8675 - val_loss: 0.2468 - val_accuracy: 0.8659\n",
            "Epoch 16/50\n",
            "37/37 [==============================] - 4s 92ms/step - loss: 0.2106 - accuracy: 0.8700 - val_loss: 0.2476 - val_accuracy: 0.8586\n",
            "Epoch 17/50\n",
            "37/37 [==============================] - 4s 121ms/step - loss: 0.2107 - accuracy: 0.8688 - val_loss: 0.2439 - val_accuracy: 0.8633\n",
            "Epoch 18/50\n",
            "37/37 [==============================] - 4s 115ms/step - loss: 0.2109 - accuracy: 0.8686 - val_loss: 0.2491 - val_accuracy: 0.8657\n",
            "Epoch 19/50\n",
            "37/37 [==============================] - 4s 116ms/step - loss: 0.2105 - accuracy: 0.8685 - val_loss: 0.2466 - val_accuracy: 0.8630\n",
            "Epoch 20/50\n",
            "37/37 [==============================] - 3s 73ms/step - loss: 0.2104 - accuracy: 0.8678 - val_loss: 0.2494 - val_accuracy: 0.8659\n",
            "Epoch 21/50\n",
            "37/37 [==============================] - 3s 90ms/step - loss: 0.2108 - accuracy: 0.8678 - val_loss: 0.2488 - val_accuracy: 0.8657\n",
            "Epoch 22/50\n",
            "37/37 [==============================] - 4s 112ms/step - loss: 0.2105 - accuracy: 0.8688 - val_loss: 0.2534 - val_accuracy: 0.8655\n",
            "Epoch 23/50\n",
            "37/37 [==============================] - 3s 95ms/step - loss: 0.2106 - accuracy: 0.8688 - val_loss: 0.2468 - val_accuracy: 0.8616\n",
            "Epoch 24/50\n",
            "37/37 [==============================] - 4s 116ms/step - loss: 0.2102 - accuracy: 0.8690 - val_loss: 0.2499 - val_accuracy: 0.8658\n",
            "Epoch 25/50\n",
            "37/37 [==============================] - 3s 76ms/step - loss: 0.2102 - accuracy: 0.8689 - val_loss: 0.2462 - val_accuracy: 0.8629\n",
            "Epoch 26/50\n",
            "37/37 [==============================] - 3s 85ms/step - loss: 0.2105 - accuracy: 0.8687 - val_loss: 0.2533 - val_accuracy: 0.8626\n",
            "Epoch 27/50\n",
            "37/37 [==============================] - 3s 90ms/step - loss: 0.2101 - accuracy: 0.8686 - val_loss: 0.2475 - val_accuracy: 0.8632\n",
            "Epoch 28/50\n",
            "37/37 [==============================] - 3s 77ms/step - loss: 0.2107 - accuracy: 0.8698 - val_loss: 0.2534 - val_accuracy: 0.8657\n",
            "Epoch 29/50\n",
            "37/37 [==============================] - 3s 70ms/step - loss: 0.2106 - accuracy: 0.8688 - val_loss: 0.2575 - val_accuracy: 0.8652\n",
            "Epoch 30/50\n",
            "37/37 [==============================] - 4s 97ms/step - loss: 0.2103 - accuracy: 0.8699 - val_loss: 0.2508 - val_accuracy: 0.8628\n",
            "Epoch 31/50\n",
            "37/37 [==============================] - 4s 97ms/step - loss: 0.2102 - accuracy: 0.8690 - val_loss: 0.2539 - val_accuracy: 0.8655\n",
            "Epoch 32/50\n",
            "37/37 [==============================] - 3s 88ms/step - loss: 0.2105 - accuracy: 0.8686 - val_loss: 0.2582 - val_accuracy: 0.8652\n",
            "Epoch 33/50\n",
            "37/37 [==============================] - 2s 67ms/step - loss: 0.2103 - accuracy: 0.8690 - val_loss: 0.2552 - val_accuracy: 0.8656\n",
            "Epoch 34/50\n",
            "37/37 [==============================] - 3s 78ms/step - loss: 0.2101 - accuracy: 0.8693 - val_loss: 0.2505 - val_accuracy: 0.8657\n",
            "Epoch 35/50\n",
            "37/37 [==============================] - 3s 86ms/step - loss: 0.2102 - accuracy: 0.8703 - val_loss: 0.2625 - val_accuracy: 0.8653\n",
            "Epoch 36/50\n",
            "37/37 [==============================] - 3s 82ms/step - loss: 0.2101 - accuracy: 0.8693 - val_loss: 0.2593 - val_accuracy: 0.8624\n",
            "Epoch 37/50\n",
            "37/37 [==============================] - 3s 91ms/step - loss: 0.2103 - accuracy: 0.8683 - val_loss: 0.2622 - val_accuracy: 0.8621\n",
            "Epoch 38/50\n",
            "37/37 [==============================] - 4s 100ms/step - loss: 0.2100 - accuracy: 0.8695 - val_loss: 0.2512 - val_accuracy: 0.8665\n",
            "Epoch 39/50\n",
            "37/37 [==============================] - 3s 73ms/step - loss: 0.2100 - accuracy: 0.8690 - val_loss: 0.2578 - val_accuracy: 0.8651\n",
            "Epoch 40/50\n",
            "37/37 [==============================] - 2s 67ms/step - loss: 0.2101 - accuracy: 0.8700 - val_loss: 0.2581 - val_accuracy: 0.8652\n",
            "Epoch 41/50\n",
            "37/37 [==============================] - 2s 68ms/step - loss: 0.2100 - accuracy: 0.8702 - val_loss: 0.2580 - val_accuracy: 0.8651\n",
            "Epoch 42/50\n",
            "37/37 [==============================] - 3s 84ms/step - loss: 0.2100 - accuracy: 0.8697 - val_loss: 0.2563 - val_accuracy: 0.8654\n",
            "Epoch 43/50\n",
            "37/37 [==============================] - 3s 69ms/step - loss: 0.2105 - accuracy: 0.8692 - val_loss: 0.2617 - val_accuracy: 0.8651\n",
            "Epoch 44/50\n",
            "37/37 [==============================] - 2s 68ms/step - loss: 0.2103 - accuracy: 0.8696 - val_loss: 0.2701 - val_accuracy: 0.8651\n",
            "Epoch 45/50\n",
            "37/37 [==============================] - 3s 74ms/step - loss: 0.2101 - accuracy: 0.8694 - val_loss: 0.2573 - val_accuracy: 0.8650\n",
            "Epoch 46/50\n",
            "37/37 [==============================] - 2s 67ms/step - loss: 0.2104 - accuracy: 0.8689 - val_loss: 0.2570 - val_accuracy: 0.8652\n",
            "Epoch 47/50\n",
            "37/37 [==============================] - 3s 70ms/step - loss: 0.2099 - accuracy: 0.8698 - val_loss: 0.2561 - val_accuracy: 0.8653\n",
            "Epoch 48/50\n",
            "37/37 [==============================] - 2s 67ms/step - loss: 0.2097 - accuracy: 0.8691 - val_loss: 0.2575 - val_accuracy: 0.8654\n",
            "Epoch 49/50\n",
            "37/37 [==============================] - 2s 62ms/step - loss: 0.2101 - accuracy: 0.8698 - val_loss: 0.2615 - val_accuracy: 0.8654\n",
            "Epoch 50/50\n",
            "37/37 [==============================] - 3s 77ms/step - loss: 0.2100 - accuracy: 0.8696 - val_loss: 0.2665 - val_accuracy: 0.8653\n"
          ]
        }
      ],
      "source": [
        "his=model.fit(X_train,y_train,validation_data=(x_val,y_val),verbose=1,batch_size=1000,epochs=epochs)"
      ]
    },
    {
      "cell_type": "code",
      "execution_count": 30,
      "metadata": {
        "colab": {
          "base_uri": "https://localhost:8080/"
        },
        "id": "cPhyd3vYb9y_",
        "outputId": "d9210865-cfbb-4bd6-9734-93a9bb027282"
      },
      "outputs": [
        {
          "output_type": "stream",
          "name": "stdout",
          "text": [
            "382/382 [==============================] - 2s 4ms/step - loss: 0.2866 - accuracy: 0.8503\n"
          ]
        }
      ],
      "source": [
        "score=model.evaluate(x_test,y_test,verbose=1)"
      ]
    },
    {
      "cell_type": "code",
      "execution_count": 31,
      "metadata": {
        "id": "nNLCBtvzb_do"
      },
      "outputs": [],
      "source": [
        "import matplotlib.pyplot as plt"
      ]
    },
    {
      "cell_type": "code",
      "execution_count": 32,
      "metadata": {
        "id": "VBRRfcs_pOgD"
      },
      "outputs": [],
      "source": [
        "x=np.arange(1,epochs+1,1)"
      ]
    },
    {
      "cell_type": "code",
      "execution_count": 33,
      "metadata": {
        "colab": {
          "base_uri": "https://localhost:8080/"
        },
        "id": "E5vZkLhAWx1n",
        "outputId": "b2cef6ae-0e56-42e7-ca5a-3438aeecd5a4"
      },
      "outputs": [
        {
          "output_type": "execute_result",
          "data": {
            "text/plain": [
              "dict_keys(['loss', 'accuracy', 'val_loss', 'val_accuracy'])"
            ]
          },
          "metadata": {},
          "execution_count": 33
        }
      ],
      "source": [
        "his.history.keys()"
      ]
    },
    {
      "cell_type": "code",
      "execution_count": 34,
      "metadata": {
        "colab": {
          "base_uri": "https://localhost:8080/",
          "height": 281
        },
        "id": "9QhvJKPfr2rm",
        "outputId": "63b285ac-3a6c-44f2-a4d6-35997f82a511"
      },
      "outputs": [
        {
          "output_type": "display_data",
          "data": {
            "text/plain": [
              "<Figure size 432x288 with 1 Axes>"
            ],
            "image/png": "[encoded data removed]"
          },
          "metadata": {
            "needs_background": "light"
          }
        }
      ],
      "source": [
        "plt.plot(x,his.history['accuracy'],label='training accuracy')\n",
        "plt.plot(x,his.history['val_accuracy'],label='validation accuracy')\n",
        "plt.legend(loc='best')\n",
        "plt.title('epochs vs accuracy')\n",
        "plt.savefig('accuracy_vs_epochs.jpg')\n",
        "plt.show()"
      ]
    },
    {
      "cell_type": "code",
      "execution_count": 35,
      "metadata": {
        "colab": {
          "base_uri": "https://localhost:8080/",
          "height": 281
        },
        "id": "XReosmMkxGe4",
        "outputId": "2f26b384-4857-4602-83f8-d9e73fddaace"
      },
      "outputs": [
        {
          "output_type": "display_data",
          "data": {
            "text/plain": [
              "<Figure size 432x288 with 1 Axes>"
            ],
            "image/png": "[encoded data removed]"
          },
          "metadata": {
            "needs_background": "light"
          }
        }
      ],
      "source": [
        "plt.plot(x,his.history['loss'],label='training loss')\n",
        "plt.plot(x,his.history['val_loss'],label='validation loss')\n",
        "plt.legend(loc='best')\n",
        "plt.title('epochs vs loss')\n",
        "plt.savefig('loss_vs_epochs.jpg')\n",
        "plt.show()"
      ]
    },
    {
      "cell_type": "code",
      "execution_count": 36,
      "metadata": {
        "id": "gu8mnBFaxN8A",
        "colab": {
          "base_uri": "https://localhost:8080/"
        },
        "outputId": "57556831-9341-484b-fb60-a1a913189d25"
      },
      "outputs": [
        {
          "output_type": "stream",
          "name": "stdout",
          "text": [
            "Keras weights file (<HDF5 file \"variables.h5\" (mode r+)>) saving:\n",
            "...layers\n",
            "......conv1d\n",
            ".........vars\n",
            "............0\n",
            "............1\n",
            "......dense\n",
            ".........vars\n",
            "............0\n",
            "............1\n",
            "......dense_1\n",
            ".........vars\n",
            "............0\n",
            "............1\n",
            "......dropout\n",
            ".........vars\n",
            "......dropout_1\n",
            ".........vars\n",
            "......embedding\n",
            ".........vars\n",
            "............0\n",
            "......global_max_pooling1d\n",
            ".........vars\n",
            "......input_layer\n",
            ".........vars\n",
            "...metrics\n",
            "......mean\n",
            ".........vars\n",
            "............0\n",
            "............1\n",
            "......mean_metric_wrapper\n",
            ".........vars\n",
            "............0\n",
            "............1\n",
            "...optimizer\n",
            "......vars\n",
            ".........0\n",
            ".........1\n",
            ".........10\n",
            ".........11\n",
            ".........12\n",
            ".........13\n",
            ".........14\n",
            ".........2\n",
            ".........3\n",
            ".........4\n",
            ".........5\n",
            ".........6\n",
            ".........7\n",
            ".........8\n",
            ".........9\n",
            "...vars\n",
            "Keras model archive saving:\n",
            "File Name                                             Modified             Size\n",
            "variables.h5                                   2023-03-07 17:04:42     22002136\n",
            "config.json                                    2023-03-07 17:04:42         3415\n",
            "metadata.json                                  2023-03-07 17:04:42           64\n"
          ]
        }
      ],
      "source": [
        "import pickle\n",
        "\n",
        "with open('model_pickle.pkl','wb') as f:\n",
        "  pickle.dump(model,f)\n",
        "\n",
        "\n",
        "with open('tokenizer.pkl','wb') as f:\n",
        "  pickle.dump(tokenizer,f)\n"
      ]
    },
    {
      "cell_type": "code",
      "source": [
        "labels=['Anamalous',\"Normal\"]\n",
        "def get_label(y):\n",
        "  return labels[np.argmax(y)]"
      ],
      "metadata": {
        "id": "JPWOOj7m_RlT"
      },
      "execution_count": 37,
      "outputs": []
    },
    {
      "cell_type": "code",
      "source": [
        "y_pred=model.predict(x_test)\n",
        "y_predicted=[get_label(x) for x in y_pred]\n",
        "y_actual=[get_label(x) for x in y_test]"
      ],
      "metadata": {
        "id": "Cq6PNqHU5lJz",
        "colab": {
          "base_uri": "https://localhost:8080/"
        },
        "outputId": "5233eecd-f586-4120-e293-bbb3ec071a02"
      },
      "execution_count": 38,
      "outputs": [
        {
          "output_type": "stream",
          "name": "stdout",
          "text": [
            "382/382 [==============================] - 1s 3ms/step\n"
          ]
        }
      ]
    },
    {
      "cell_type": "code",
      "source": [
        "y_predicted[:5]"
      ],
      "metadata": {
        "colab": {
          "base_uri": "https://localhost:8080/"
        },
        "id": "6AmUyPESCtFd",
        "outputId": "17c63ddf-1f59-4513-aeff-ccbce0a6a8db"
      },
      "execution_count": 42,
      "outputs": [
        {
          "output_type": "execute_result",
          "data": {
            "text/plain": [
              "['Anamalous', 'Normal', 'Anamalous', 'Normal', 'Anamalous']"
            ]
          },
          "metadata": {},
          "execution_count": 42
        }
      ]
    },
    {
      "cell_type": "code",
      "source": [
        "from sklearn.metrics import confusion_matrix\n",
        "import seaborn as sns\n",
        "conf_mat = confusion_matrix(y_actual, y_predicted,labels=labels)\n",
        "matrix=sns.heatmap(conf_mat, square=True, annot=True, cmap='Blues', fmt='d', cbar=False)\n",
        "matrix.figure.savefig('confusion_matrix.jpg')"
      ],
      "metadata": {
        "colab": {
          "base_uri": "https://localhost:8080/",
          "height": 265
        },
        "id": "ZvMzmu9DAHef",
        "outputId": "a92b53ef-1d2a-4a8c-d54c-97c8ab00065e"
      },
      "execution_count": 43,
      "outputs": [
        {
          "output_type": "display_data",
          "data": {
            "text/plain": [
              "<Figure size 432x288 with 1 Axes>"
            ],
            "image/png": "[encoded data removed]"
          },
          "metadata": {
            "needs_background": "light"
          }
        }
      ]
    },
    {
      "cell_type": "code",
      "source": [
        "from sklearn.metrics import classification_report\n",
        "print(classification_report(y_actual,y_predicted))"
      ],
      "metadata": {
        "colab": {
          "base_uri": "https://localhost:8080/"
        },
        "id": "HSh8S_SQAhMC",
        "outputId": "63ab9333-fc31-4b83-cc97-d8d160e8f6b1"
      },
      "execution_count": 44,
      "outputs": [
        {
          "output_type": "stream",
          "name": "stdout",
          "text": [
            "              precision    recall  f1-score   support\n",
            "\n",
            "   Anamalous       0.80      0.85      0.82      5013\n",
            "      Normal       0.89      0.85      0.87      7200\n",
            "\n",
            "    accuracy                           0.85     12213\n",
            "   macro avg       0.84      0.85      0.85     12213\n",
            "weighted avg       0.85      0.85      0.85     12213\n",
            "\n"
          ]
        }
      ]
    },
    {
      "cell_type": "code",
      "source": [],
      "metadata": {
        "id": "6qgvcUVvDCUl"
      },
      "execution_count": null,
      "outputs": []
    }
  ],
  "metadata": {
    "accelerator": "GPU",
    "colab": {
      "provenance": []
    },
    "gpuClass": "standard",
    "kernelspec": {
      "display_name": "Python 3",
      "name": "python3"
    },
    "language_info": {
      "name": "python"
    }
  },
  "nbformat": 4,
  "nbformat_minor": 0
}