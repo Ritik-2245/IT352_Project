{
  "cells": [
    {
      "cell_type": "code",
      "execution_count": 1,
      "metadata": {
        "colab": {
          "base_uri": "https://localhost:8080/"
        },
        "id": "FBo_c94JEjxh",
        "outputId": "b1a3a3eb-f05a-4c57-d28d-a342c5a9866f"
      },
      "outputs": [
        {
          "output_type": "stream",
          "name": "stdout",
          "text": [
            "Mounted at /content/drive/\n"
          ]
        }
      ],
      "source": [
        "from google.colab import drive\n",
        "drive.mount('/content/drive/')"
      ]
    },
    {
      "cell_type": "code",
      "execution_count": 2,
      "metadata": {
        "colab": {
          "base_uri": "https://localhost:8080/"
        },
        "id": "hu2raHB-EyuL",
        "outputId": "75536d6e-f06e-42c2-c685-cbf2aec5bff5"
      },
      "outputs": [
        {
          "output_type": "stream",
          "name": "stdout",
          "text": [
            "/content/drive/.shortcut-targets-by-id/1MG5qbQ0whefvbr056GUnZf-XfwttrcXj/project\n"
          ]
        }
      ],
      "source": [
        "%cd '/content/drive/MyDrive/project/'"
      ]
    },
    {
      "cell_type": "code",
      "execution_count": 3,
      "metadata": {
        "id": "ufr5dHUvFyyc"
      },
      "outputs": [],
      "source": [
        "import pandas as pd\n",
        "import numpy as np"
      ]
    },
    {
      "cell_type": "code",
      "execution_count": 4,
      "metadata": {
        "id": "kMnrkCoDt6rO"
      },
      "outputs": [],
      "source": [
        "from tensorflow.keras.preprocessing.text import Tokenizer\n",
        "from tensorflow.keras.preprocessing.sequence import pad_sequences\n"
      ]
    },
    {
      "cell_type": "code",
      "execution_count": 5,
      "metadata": {
        "id": "Ah4vdZqnuBgQ"
      },
      "outputs": [],
      "source": [
        "tokenizer=Tokenizer()"
      ]
    },
    {
      "cell_type": "code",
      "execution_count": 6,
      "metadata": {
        "id": "YMVz2w2JvDNY"
      },
      "outputs": [],
      "source": [
        "\n",
        "dt=pd.read_csv('csic_database.csv')"
      ]
    },
    {
      "cell_type": "code",
      "execution_count": 7,
      "metadata": {
        "colab": {
          "base_uri": "https://localhost:8080/"
        },
        "id": "VDZRQXAcvzBi",
        "outputId": "2c025440-00c7-490f-9cf4-99f100cc56f6"
      },
      "outputs": [
        {
          "output_type": "execute_result",
          "data": {
            "text/plain": [
              "Index(['type', 'Method', 'User-Agent', 'Pragma', 'Cache-Control', 'Accept',\n",
              "       'Accept-encoding', 'Accept-charset', 'language', 'host', 'cookie',\n",
              "       'content-type', 'connection', 'lenght', 'content', 'classification',\n",
              "       'URL'],\n",
              "      dtype='object')"
            ]
          },
          "metadata": {},
          "execution_count": 7
        }
      ],
      "source": [
        "dt.columns"
      ]
    },
    {
      "cell_type": "code",
      "source": [
        "dt.head()"
      ],
      "metadata": {
        "colab": {
          "base_uri": "https://localhost:8080/",
          "height": 697
        },
        "id": "2tVEb2DyViyW",
        "outputId": "4a44dee0-bb7a-4fd2-fdcf-701b0f88512a"
      },
      "execution_count": 8,
      "outputs": [
        {
          "output_type": "execute_result",
          "data": {
            "text/plain": [
              "     type Method                                         User-Agent    Pragma  \\\n",
              "0  Normal    GET  Mozilla/5.0 (compatible; Konqueror/3.5; Linux)...  no-cache   \n",
              "1  Normal    GET  Mozilla/5.0 (compatible; Konqueror/3.5; Linux)...  no-cache   \n",
              "2  Normal   POST  Mozilla/5.0 (compatible; Konqueror/3.5; Linux)...  no-cache   \n",
              "3  Normal    GET  Mozilla/5.0 (compatible; Konqueror/3.5; Linux)...  no-cache   \n",
              "4  Normal   POST  Mozilla/5.0 (compatible; Konqueror/3.5; Linux)...  no-cache   \n",
              "\n",
              "  Cache-Control                                             Accept  \\\n",
              "0      no-cache  text/xml,application/xml,application/xhtml+xml...   \n",
              "1      no-cache  text/xml,application/xml,application/xhtml+xml...   \n",
              "2      no-cache  text/xml,application/xml,application/xhtml+xml...   \n",
              "3      no-cache  text/xml,application/xml,application/xhtml+xml...   \n",
              "4      no-cache  text/xml,application/xml,application/xhtml+xml...   \n",
              "\n",
              "                    Accept-encoding               Accept-charset language  \\\n",
              "0  x-gzip, x-deflate, gzip, deflate  utf-8, utf-8;q=0.5, *;q=0.5       en   \n",
              "1  x-gzip, x-deflate, gzip, deflate  utf-8, utf-8;q=0.5, *;q=0.5       en   \n",
              "2  x-gzip, x-deflate, gzip, deflate  utf-8, utf-8;q=0.5, *;q=0.5       en   \n",
              "3  x-gzip, x-deflate, gzip, deflate  utf-8, utf-8;q=0.5, *;q=0.5       en   \n",
              "4  x-gzip, x-deflate, gzip, deflate  utf-8, utf-8;q=0.5, *;q=0.5       en   \n",
              "\n",
              "             host                                       cookie  \\\n",
              "0  localhost:8080  JSESSIONID=1F767F17239C9B670A39E9B10C3825F4   \n",
              "1  localhost:8080  JSESSIONID=81761ACA043B0E6014CA42A4BCD06AB5   \n",
              "2  localhost:8080  JSESSIONID=933185092E0B668B90676E0A2B0767AF   \n",
              "3  localhost:8080  JSESSIONID=8FA18BA82C5336D03D3A8AFA3E68CBB0   \n",
              "4  localhost:8080  JSESSIONID=7104E6C68A6BCF1423DAE990CE49FEE2   \n",
              "\n",
              "                        content-type         connection              lenght  \\\n",
              "0                                NaN              close                 NaN   \n",
              "1                                NaN              close                 NaN   \n",
              "2  application/x-www-form-urlencoded  Connection: close  Content-Length: 68   \n",
              "3                                NaN              close                 NaN   \n",
              "4  application/x-www-form-urlencoded  Connection: close  Content-Length: 63   \n",
              "\n",
              "                                             content  classification  \\\n",
              "0                                                NaN               0   \n",
              "1                                                NaN               0   \n",
              "2  id=3&nombre=Vino+Rioja&precio=100&cantidad=55&...               0   \n",
              "3                                                NaN               0   \n",
              "4  modo=entrar&login=choong&pwd=d1se3ci%F3n&remem...               0   \n",
              "\n",
              "                                                 URL  \n",
              "0   http://localhost:8080/tienda1/index.jsp HTTP/1.1  \n",
              "1  http://localhost:8080/tienda1/publico/anadir.j...  \n",
              "2  http://localhost:8080/tienda1/publico/anadir.j...  \n",
              "3  http://localhost:8080/tienda1/publico/autentic...  \n",
              "4  http://localhost:8080/tienda1/publico/autentic...  "
            ],
            "text/html": [
              "\n",
              "  <div id=\"df-8c6867f5-da69-43dc-844b-d5284b7ffda0\">\n",
              "    <div class=\"colab-df-container\">\n",
              "      <div>\n",
              "<style scoped>\n",
              "    .dataframe tbody tr th:only-of-type {\n",
              "        vertical-align: middle;\n",
              "    }\n",
              "\n",
              "    .dataframe tbody tr th {\n",
              "        vertical-align: top;\n",
              "    }\n",
              "\n",
              "    .dataframe thead th {\n",
              "        text-align: right;\n",
              "    }\n",
              "</style>\n",
              "<table border=\"1\" class=\"dataframe\">\n",
              "  <thead>\n",
              "    <tr style=\"text-align: right;\">\n",
              "      <th></th>\n",
              "      <th>type</th>\n",
              "      <th>Method</th>\n",
              "      <th>User-Agent</th>\n",
              "      <th>Pragma</th>\n",
              "      <th>Cache-Control</th>\n",
              "      <th>Accept</th>\n",
              "      <th>Accept-encoding</th>\n",
              "      <th>Accept-charset</th>\n",
              "      <th>language</th>\n",
              "      <th>host</th>\n",
              "      <th>cookie</th>\n",
              "      <th>content-type</th>\n",
              "      <th>connection</th>\n",
              "      <th>lenght</th>\n",
              "      <th>content</th>\n",
              "      <th>classification</th>\n",
              "      <th>URL</th>\n",
              "    </tr>\n",
              "  </thead>\n",
              "  <tbody>\n",
              "    <tr>\n",
              "      <th>0</th>\n",
              "      <td>Normal</td>\n",
              "      <td>GET</td>\n",
              "      <td>Mozilla/5.0 (compatible; Konqueror/3.5; Linux)...</td>\n",
              "      <td>no-cache</td>\n",
              "      <td>no-cache</td>\n",
              "      <td>text/xml,application/xml,application/xhtml+xml...</td>\n",
              "      <td>x-gzip, x-deflate, gzip, deflate</td>\n",
              "      <td>utf-8, utf-8;q=0.5, *;q=0.5</td>\n",
              "      <td>en</td>\n",
              "      <td>localhost:8080</td>\n",
              "      <td>JSESSIONID=1F767F17239C9B670A39E9B10C3825F4</td>\n",
              "      <td>NaN</td>\n",
              "      <td>close</td>\n",
              "      <td>NaN</td>\n",
              "      <td>NaN</td>\n",
              "      <td>0</td>\n",
              "      <td>http://localhost:8080/tienda1/index.jsp HTTP/1.1</td>\n",
              "    </tr>\n",
              "    <tr>\n",
              "      <th>1</th>\n",
              "      <td>Normal</td>\n",
              "      <td>GET</td>\n",
              "      <td>Mozilla/5.0 (compatible; Konqueror/3.5; Linux)...</td>\n",
              "      <td>no-cache</td>\n",
              "      <td>no-cache</td>\n",
              "      <td>text/xml,application/xml,application/xhtml+xml...</td>\n",
              "      <td>x-gzip, x-deflate, gzip, deflate</td>\n",
              "      <td>utf-8, utf-8;q=0.5, *;q=0.5</td>\n",
              "      <td>en</td>\n",
              "      <td>localhost:8080</td>\n",
              "      <td>JSESSIONID=81761ACA043B0E6014CA42A4BCD06AB5</td>\n",
              "      <td>NaN</td>\n",
              "      <td>close</td>\n",
              "      <td>NaN</td>\n",
              "      <td>NaN</td>\n",
              "      <td>0</td>\n",
              "      <td>http://localhost:8080/tienda1/publico/anadir.j...</td>\n",
              "    </tr>\n",
              "    <tr>\n",
              "      <th>2</th>\n",
              "      <td>Normal</td>\n",
              "      <td>POST</td>\n",
              "      <td>Mozilla/5.0 (compatible; Konqueror/3.5; Linux)...</td>\n",
              "      <td>no-cache</td>\n",
              "      <td>no-cache</td>\n",
              "      <td>text/xml,application/xml,application/xhtml+xml...</td>\n",
              "      <td>x-gzip, x-deflate, gzip, deflate</td>\n",
              "      <td>utf-8, utf-8;q=0.5, *;q=0.5</td>\n",
              "      <td>en</td>\n",
              "      <td>localhost:8080</td>\n",
              "      <td>JSESSIONID=933185092E0B668B90676E0A2B0767AF</td>\n",
              "      <td>application/x-www-form-urlencoded</td>\n",
              "      <td>Connection: close</td>\n",
              "      <td>Content-Length: 68</td>\n",
              "      <td>id=3&amp;nombre=Vino+Rioja&amp;precio=100&amp;cantidad=55&amp;...</td>\n",
              "      <td>0</td>\n",
              "      <td>http://localhost:8080/tienda1/publico/anadir.j...</td>\n",
              "    </tr>\n",
              "    <tr>\n",
              "      <th>3</th>\n",
              "      <td>Normal</td>\n",
              "      <td>GET</td>\n",
              "      <td>Mozilla/5.0 (compatible; Konqueror/3.5; Linux)...</td>\n",
              "      <td>no-cache</td>\n",
              "      <td>no-cache</td>\n",
              "      <td>text/xml,application/xml,application/xhtml+xml...</td>\n",
              "      <td>x-gzip, x-deflate, gzip, deflate</td>\n",
              "      <td>utf-8, utf-8;q=0.5, *;q=0.5</td>\n",
              "      <td>en</td>\n",
              "      <td>localhost:8080</td>\n",
              "      <td>JSESSIONID=8FA18BA82C5336D03D3A8AFA3E68CBB0</td>\n",
              "      <td>NaN</td>\n",
              "      <td>close</td>\n",
              "      <td>NaN</td>\n",
              "      <td>NaN</td>\n",
              "      <td>0</td>\n",
              "      <td>http://localhost:8080/tienda1/publico/autentic...</td>\n",
              "    </tr>\n",
              "    <tr>\n",
              "      <th>4</th>\n",
              "      <td>Normal</td>\n",
              "      <td>POST</td>\n",
              "      <td>Mozilla/5.0 (compatible; Konqueror/3.5; Linux)...</td>\n",
              "      <td>no-cache</td>\n",
              "      <td>no-cache</td>\n",
              "      <td>text/xml,application/xml,application/xhtml+xml...</td>\n",
              "      <td>x-gzip, x-deflate, gzip, deflate</td>\n",
              "      <td>utf-8, utf-8;q=0.5, *;q=0.5</td>\n",
              "      <td>en</td>\n",
              "      <td>localhost:8080</td>\n",
              "      <td>JSESSIONID=7104E6C68A6BCF1423DAE990CE49FEE2</td>\n",
              "      <td>application/x-www-form-urlencoded</td>\n",
              "      <td>Connection: close</td>\n",
              "      <td>Content-Length: 63</td>\n",
              "      <td>modo=entrar&amp;login=choong&amp;pwd=d1se3ci%F3n&amp;remem...</td>\n",
              "      <td>0</td>\n",
              "      <td>http://localhost:8080/tienda1/publico/autentic...</td>\n",
              "    </tr>\n",
              "  </tbody>\n",
              "</table>\n",
              "</div>\n",
              "      <button class=\"colab-df-convert\" onclick=\"convertToInteractive('df-8c6867f5-da69-43dc-844b-d5284b7ffda0')\"\n",
              "              title=\"Convert this dataframe to an interactive table.\"\n",
              "              style=\"display:none;\">\n",
              "        \n",
              "  <svg xmlns=\"http://www.w3.org/2000/svg\" height=\"24px\"viewBox=\"0 0 24 24\"\n",
              "       width=\"24px\">\n",
              "    <path d=\"M0 0h24v24H0V0z\" fill=\"none\"/>\n",
              "    <path d=\"M18.56 5.44l.94 2.06.94-2.06 2.06-.94-2.06-.94-.94-2.06-.94 2.06-2.06.94zm-11 1L8.5 8.5l.94-2.06 2.06-.94-2.06-.94L8.5 2.5l-.94 2.06-2.06.94zm10 10l.94 2.06.94-2.06 2.06-.94-2.06-.94-.94-2.06-.94 2.06-2.06.94z\"/><path d=\"M17.41 7.96l-1.37-1.37c-.4-.4-.92-.59-1.43-.59-.52 0-1.04.2-1.43.59L10.3 9.45l-7.72 7.72c-.78.78-.78 2.05 0 2.83L4 21.41c.39.39.9.59 1.41.59.51 0 1.02-.2 1.41-.59l7.78-7.78 2.81-2.81c.8-.78.8-2.07 0-2.86zM5.41 20L4 18.59l7.72-7.72 1.47 1.35L5.41 20z\"/>\n",
              "  </svg>\n",
              "      </button>\n",
              "      \n",
              "  <style>\n",
              "    .colab-df-container {\n",
              "      display:flex;\n",
              "      flex-wrap:wrap;\n",
              "      gap: 12px;\n",
              "    }\n",
              "\n",
              "    .colab-df-convert {\n",
              "      background-color: #E8F0FE;\n",
              "      border: none;\n",
              "      border-radius: 50%;\n",
              "      cursor: pointer;\n",
              "      display: none;\n",
              "      fill: #1967D2;\n",
              "      height: 32px;\n",
              "      padding: 0 0 0 0;\n",
              "      width: 32px;\n",
              "    }\n",
              "\n",
              "    .colab-df-convert:hover {\n",
              "      background-color: #E2EBFA;\n",
              "      box-shadow: 0px 1px 2px rgba(60, 64, 67, 0.3), 0px 1px 3px 1px rgba(60, 64, 67, 0.15);\n",
              "      fill: #174EA6;\n",
              "    }\n",
              "\n",
              "    [theme=dark] .colab-df-convert {\n",
              "      background-color: #3B4455;\n",
              "      fill: #D2E3FC;\n",
              "    }\n",
              "\n",
              "    [theme=dark] .colab-df-convert:hover {\n",
              "      background-color: #434B5C;\n",
              "      box-shadow: 0px 1px 3px 1px rgba(0, 0, 0, 0.15);\n",
              "      filter: drop-shadow(0px 1px 2px rgba(0, 0, 0, 0.3));\n",
              "      fill: #FFFFFF;\n",
              "    }\n",
              "  </style>\n",
              "\n",
              "      <script>\n",
              "        const buttonEl =\n",
              "          document.querySelector('#df-8c6867f5-da69-43dc-844b-d5284b7ffda0 button.colab-df-convert');\n",
              "        buttonEl.style.display =\n",
              "          google.colab.kernel.accessAllowed ? 'block' : 'none';\n",
              "\n",
              "        async function convertToInteractive(key) {\n",
              "          const element = document.querySelector('#df-8c6867f5-da69-43dc-844b-d5284b7ffda0');\n",
              "          const dataTable =\n",
              "            await google.colab.kernel.invokeFunction('convertToInteractive',\n",
              "                                                     [key], {});\n",
              "          if (!dataTable) return;\n",
              "\n",
              "          const docLinkHtml = 'Like what you see? Visit the ' +\n",
              "            '<a target=\"_blank\" href=https://colab.research.google.com/notebooks/data_table.ipynb>data table notebook</a>'\n",
              "            + ' to learn more about interactive tables.';\n",
              "          element.innerHTML = '';\n",
              "          dataTable['output_type'] = 'display_data';\n",
              "          await google.colab.output.renderOutput(dataTable, element);\n",
              "          const docLink = document.createElement('div');\n",
              "          docLink.innerHTML = docLinkHtml;\n",
              "          element.appendChild(docLink);\n",
              "        }\n",
              "      </script>\n",
              "    </div>\n",
              "  </div>\n",
              "  "
            ]
          },
          "metadata": {},
          "execution_count": 8
        },
        {
          "output_type": "stream",
          "name": "stdout",
          "text": [
            "Error: Runtime no longer has a reference to this dataframe, please re-run this cell and try again.\n"
          ]
        }
      ]
    },
    {
      "cell_type": "code",
      "execution_count": 9,
      "metadata": {
        "colab": {
          "base_uri": "https://localhost:8080/"
        },
        "id": "qUKBL18Bv0yh",
        "outputId": "8d2c55ef-c776-4beb-bf16-291be577f370"
      },
      "outputs": [
        {
          "output_type": "execute_result",
          "data": {
            "text/plain": [
              "61065"
            ]
          },
          "metadata": {},
          "execution_count": 9
        }
      ],
      "source": [
        "len(dt)"
      ]
    },
    {
      "cell_type": "code",
      "execution_count": 10,
      "metadata": {
        "id": "QEEj9NN7zZnZ"
      },
      "outputs": [],
      "source": [
        "# x=['method','accept','acceptEncoding','acceptLanguage','userAgent','url']\n",
        "x=['Method','Accept','Accept-encoding','language','User-Agent','URL']\n"
      ]
    },
    {
      "cell_type": "code",
      "execution_count": 11,
      "metadata": {
        "id": "xxXKQnFG1ZxX"
      },
      "outputs": [],
      "source": [
        "data=dt[x].astype(str)"
      ]
    },
    {
      "cell_type": "code",
      "execution_count": 12,
      "metadata": {
        "id": "C1oteQWAFqh8"
      },
      "outputs": [],
      "source": [
        "x_data=[]\n",
        "\n",
        "for s in data.values:\n",
        "  d=\"\"\n",
        "  z=0\n",
        "  for i in s:\n",
        "    d+=x[z]+\" : \"+i+\" \\n\"\n",
        "    z+=1\n",
        "  d=d.replace('HTTP/1.1 ',\"\")\n",
        "  x_data.append(d)\n",
        "  # print(s)\n",
        "\n",
        "tokenizer.fit_on_texts(x_data)"
      ]
    },
    {
      "cell_type": "code",
      "execution_count": 13,
      "metadata": {
        "colab": {
          "base_uri": "https://localhost:8080/"
        },
        "id": "cQenIIPD1qBU",
        "outputId": "a1376e5f-5720-470b-a81b-d630d280b4b4"
      },
      "outputs": [
        {
          "output_type": "stream",
          "name": "stdout",
          "text": [
            "34593\n"
          ]
        }
      ],
      "source": [
        "vocab_size=len(tokenizer.word_counts)\n",
        "print(vocab_size)"
      ]
    },
    {
      "cell_type": "code",
      "execution_count": 14,
      "metadata": {
        "colab": {
          "base_uri": "https://localhost:8080/"
        },
        "id": "sKbU-4hXt10a",
        "outputId": "495ca4a5-f083-4f13-fd35-57e5894504a8"
      },
      "outputs": [
        {
          "output_type": "stream",
          "name": "stdout",
          "text": [
            "Method : GET \n",
            "Accept : text/xml,application/xml,application/xhtml+xml,text/html;q=0.9,text/plain;q=0.8,image/png,*/*;q=0.5 \n",
            "Accept-encoding : x-gzip, x-deflate, gzip, deflate \n",
            "language : en \n",
            "User-Agent : Mozilla/5.0 (compatible; Konqueror/3.5; Linux) KHTML/3.5.8 (like Gecko) \n",
            "URL : http://localhost:8080/tienda1/index.jsp \n",
            " Method : GET \n",
            "Accept : text/xml,application/xml,application/xhtml+xml,text/html;q=0.9,text/plain;q=0.8,image/png,*/*;q=0.5 \n",
            "Accept-encoding : x-gzip, x-deflate, gzip, deflate \n",
            "language : en \n",
            "User-Agent : Mozilla/5.0 (compatible; Konqueror/3.5; Linux) KHTML/3.5.8 (like Gecko) \n",
            "URL : http://localhost:8080/tienda1/publico/anadir.jsp?id=3&nombre=Vino+Rioja&precio=100&cantidad=55&B1=A%F1adir+al+carrito \n",
            " Method : POST \n",
            "Accept : text/xml,application/xml,application/xhtml+xml,text/html;q=0.9,text/plain;q=0.8,image/png,*/*;q=0.5 \n",
            "Accept-encoding : x-gzip, x-deflate, gzip, deflate \n",
            "language : en \n",
            "User-Agent : Mozilla/5.0 (compatible; Konqueror/3.5; Linux) KHTML/3.5.8 (like Gecko) \n",
            "URL : http://localhost:8080/tienda1/publico/anadir.jsp \n",
            " Method : GET \n",
            "Accept : text/xml,application/xml,application/xhtml+xml,text/html;q=0.9,text/plain;q=0.8,image/png,*/*;q=0.5 \n",
            "Accept-encoding : x-gzip, x-deflate, gzip, deflate \n",
            "language : en \n",
            "User-Agent : Mozilla/5.0 (compatible; Konqueror/3.5; Linux) KHTML/3.5.8 (like Gecko) \n",
            "URL : http://localhost:8080/tienda1/publico/autenticar.jsp?modo=entrar&login=choong&pwd=d1se3ci%F3n&remember=off&B1=Entrar \n",
            " Method : POST \n",
            "Accept : text/xml,application/xml,application/xhtml+xml,text/html;q=0.9,text/plain;q=0.8,image/png,*/*;q=0.5 \n",
            "Accept-encoding : x-gzip, x-deflate, gzip, deflate \n",
            "language : en \n",
            "User-Agent : Mozilla/5.0 (compatible; Konqueror/3.5; Linux) KHTML/3.5.8 (like Gecko) \n",
            "URL : http://localhost:8080/tienda1/publico/autenticar.jsp \n",
            "\n"
          ]
        }
      ],
      "source": [
        "print(*x_data[:5])"
      ]
    },
    {
      "cell_type": "code",
      "execution_count": 15,
      "metadata": {
        "colab": {
          "base_uri": "https://localhost:8080/",
          "height": 337
        },
        "id": "l74UENnX9Pck",
        "outputId": "82cb53fe-7a67-4597-8a56-13eebc2e75dd"
      },
      "outputs": [
        {
          "output_type": "execute_result",
          "data": {
            "text/plain": [
              "  Method                                             Accept  \\\n",
              "0    GET  text/xml,application/xml,application/xhtml+xml...   \n",
              "1    GET  text/xml,application/xml,application/xhtml+xml...   \n",
              "2   POST  text/xml,application/xml,application/xhtml+xml...   \n",
              "3    GET  text/xml,application/xml,application/xhtml+xml...   \n",
              "4   POST  text/xml,application/xml,application/xhtml+xml...   \n",
              "\n",
              "                    Accept-encoding language  \\\n",
              "0  x-gzip, x-deflate, gzip, deflate       en   \n",
              "1  x-gzip, x-deflate, gzip, deflate       en   \n",
              "2  x-gzip, x-deflate, gzip, deflate       en   \n",
              "3  x-gzip, x-deflate, gzip, deflate       en   \n",
              "4  x-gzip, x-deflate, gzip, deflate       en   \n",
              "\n",
              "                                          User-Agent  \\\n",
              "0  Mozilla/5.0 (compatible; Konqueror/3.5; Linux)...   \n",
              "1  Mozilla/5.0 (compatible; Konqueror/3.5; Linux)...   \n",
              "2  Mozilla/5.0 (compatible; Konqueror/3.5; Linux)...   \n",
              "3  Mozilla/5.0 (compatible; Konqueror/3.5; Linux)...   \n",
              "4  Mozilla/5.0 (compatible; Konqueror/3.5; Linux)...   \n",
              "\n",
              "                                                 URL  \n",
              "0   http://localhost:8080/tienda1/index.jsp HTTP/1.1  \n",
              "1  http://localhost:8080/tienda1/publico/anadir.j...  \n",
              "2  http://localhost:8080/tienda1/publico/anadir.j...  \n",
              "3  http://localhost:8080/tienda1/publico/autentic...  \n",
              "4  http://localhost:8080/tienda1/publico/autentic...  "
            ],
            "text/html": [
              "\n",
              "  <div id=\"df-fcf78d5d-5562-404d-b5ba-00132082cd26\">\n",
              "    <div class=\"colab-df-container\">\n",
              "      <div>\n",
              "<style scoped>\n",
              "    .dataframe tbody tr th:only-of-type {\n",
              "        vertical-align: middle;\n",
              "    }\n",
              "\n",
              "    .dataframe tbody tr th {\n",
              "        vertical-align: top;\n",
              "    }\n",
              "\n",
              "    .dataframe thead th {\n",
              "        text-align: right;\n",
              "    }\n",
              "</style>\n",
              "<table border=\"1\" class=\"dataframe\">\n",
              "  <thead>\n",
              "    <tr style=\"text-align: right;\">\n",
              "      <th></th>\n",
              "      <th>Method</th>\n",
              "      <th>Accept</th>\n",
              "      <th>Accept-encoding</th>\n",
              "      <th>language</th>\n",
              "      <th>User-Agent</th>\n",
              "      <th>URL</th>\n",
              "    </tr>\n",
              "  </thead>\n",
              "  <tbody>\n",
              "    <tr>\n",
              "      <th>0</th>\n",
              "      <td>GET</td>\n",
              "      <td>text/xml,application/xml,application/xhtml+xml...</td>\n",
              "      <td>x-gzip, x-deflate, gzip, deflate</td>\n",
              "      <td>en</td>\n",
              "      <td>Mozilla/5.0 (compatible; Konqueror/3.5; Linux)...</td>\n",
              "      <td>http://localhost:8080/tienda1/index.jsp HTTP/1.1</td>\n",
              "    </tr>\n",
              "    <tr>\n",
              "      <th>1</th>\n",
              "      <td>GET</td>\n",
              "      <td>text/xml,application/xml,application/xhtml+xml...</td>\n",
              "      <td>x-gzip, x-deflate, gzip, deflate</td>\n",
              "      <td>en</td>\n",
              "      <td>Mozilla/5.0 (compatible; Konqueror/3.5; Linux)...</td>\n",
              "      <td>http://localhost:8080/tienda1/publico/anadir.j...</td>\n",
              "    </tr>\n",
              "    <tr>\n",
              "      <th>2</th>\n",
              "      <td>POST</td>\n",
              "      <td>text/xml,application/xml,application/xhtml+xml...</td>\n",
              "      <td>x-gzip, x-deflate, gzip, deflate</td>\n",
              "      <td>en</td>\n",
              "      <td>Mozilla/5.0 (compatible; Konqueror/3.5; Linux)...</td>\n",
              "      <td>http://localhost:8080/tienda1/publico/anadir.j...</td>\n",
              "    </tr>\n",
              "    <tr>\n",
              "      <th>3</th>\n",
              "      <td>GET</td>\n",
              "      <td>text/xml,application/xml,application/xhtml+xml...</td>\n",
              "      <td>x-gzip, x-deflate, gzip, deflate</td>\n",
              "      <td>en</td>\n",
              "      <td>Mozilla/5.0 (compatible; Konqueror/3.5; Linux)...</td>\n",
              "      <td>http://localhost:8080/tienda1/publico/autentic...</td>\n",
              "    </tr>\n",
              "    <tr>\n",
              "      <th>4</th>\n",
              "      <td>POST</td>\n",
              "      <td>text/xml,application/xml,application/xhtml+xml...</td>\n",
              "      <td>x-gzip, x-deflate, gzip, deflate</td>\n",
              "      <td>en</td>\n",
              "      <td>Mozilla/5.0 (compatible; Konqueror/3.5; Linux)...</td>\n",
              "      <td>http://localhost:8080/tienda1/publico/autentic...</td>\n",
              "    </tr>\n",
              "  </tbody>\n",
              "</table>\n",
              "</div>\n",
              "      <button class=\"colab-df-convert\" onclick=\"convertToInteractive('df-fcf78d5d-5562-404d-b5ba-00132082cd26')\"\n",
              "              title=\"Convert this dataframe to an interactive table.\"\n",
              "              style=\"display:none;\">\n",
              "        \n",
              "  <svg xmlns=\"http://www.w3.org/2000/svg\" height=\"24px\"viewBox=\"0 0 24 24\"\n",
              "       width=\"24px\">\n",
              "    <path d=\"M0 0h24v24H0V0z\" fill=\"none\"/>\n",
              "    <path d=\"M18.56 5.44l.94 2.06.94-2.06 2.06-.94-2.06-.94-.94-2.06-.94 2.06-2.06.94zm-11 1L8.5 8.5l.94-2.06 2.06-.94-2.06-.94L8.5 2.5l-.94 2.06-2.06.94zm10 10l.94 2.06.94-2.06 2.06-.94-2.06-.94-.94-2.06-.94 2.06-2.06.94z\"/><path d=\"M17.41 7.96l-1.37-1.37c-.4-.4-.92-.59-1.43-.59-.52 0-1.04.2-1.43.59L10.3 9.45l-7.72 7.72c-.78.78-.78 2.05 0 2.83L4 21.41c.39.39.9.59 1.41.59.51 0 1.02-.2 1.41-.59l7.78-7.78 2.81-2.81c.8-.78.8-2.07 0-2.86zM5.41 20L4 18.59l7.72-7.72 1.47 1.35L5.41 20z\"/>\n",
              "  </svg>\n",
              "      </button>\n",
              "      \n",
              "  <style>\n",
              "    .colab-df-container {\n",
              "      display:flex;\n",
              "      flex-wrap:wrap;\n",
              "      gap: 12px;\n",
              "    }\n",
              "\n",
              "    .colab-df-convert {\n",
              "      background-color: #E8F0FE;\n",
              "      border: none;\n",
              "      border-radius: 50%;\n",
              "      cursor: pointer;\n",
              "      display: none;\n",
              "      fill: #1967D2;\n",
              "      height: 32px;\n",
              "      padding: 0 0 0 0;\n",
              "      width: 32px;\n",
              "    }\n",
              "\n",
              "    .colab-df-convert:hover {\n",
              "      background-color: #E2EBFA;\n",
              "      box-shadow: 0px 1px 2px rgba(60, 64, 67, 0.3), 0px 1px 3px 1px rgba(60, 64, 67, 0.15);\n",
              "      fill: #174EA6;\n",
              "    }\n",
              "\n",
              "    [theme=dark] .colab-df-convert {\n",
              "      background-color: #3B4455;\n",
              "      fill: #D2E3FC;\n",
              "    }\n",
              "\n",
              "    [theme=dark] .colab-df-convert:hover {\n",
              "      background-color: #434B5C;\n",
              "      box-shadow: 0px 1px 3px 1px rgba(0, 0, 0, 0.15);\n",
              "      filter: drop-shadow(0px 1px 2px rgba(0, 0, 0, 0.3));\n",
              "      fill: #FFFFFF;\n",
              "    }\n",
              "  </style>\n",
              "\n",
              "      <script>\n",
              "        const buttonEl =\n",
              "          document.querySelector('#df-fcf78d5d-5562-404d-b5ba-00132082cd26 button.colab-df-convert');\n",
              "        buttonEl.style.display =\n",
              "          google.colab.kernel.accessAllowed ? 'block' : 'none';\n",
              "\n",
              "        async function convertToInteractive(key) {\n",
              "          const element = document.querySelector('#df-fcf78d5d-5562-404d-b5ba-00132082cd26');\n",
              "          const dataTable =\n",
              "            await google.colab.kernel.invokeFunction('convertToInteractive',\n",
              "                                                     [key], {});\n",
              "          if (!dataTable) return;\n",
              "\n",
              "          const docLinkHtml = 'Like what you see? Visit the ' +\n",
              "            '<a target=\"_blank\" href=https://colab.research.google.com/notebooks/data_table.ipynb>data table notebook</a>'\n",
              "            + ' to learn more about interactive tables.';\n",
              "          element.innerHTML = '';\n",
              "          dataTable['output_type'] = 'display_data';\n",
              "          await google.colab.output.renderOutput(dataTable, element);\n",
              "          const docLink = document.createElement('div');\n",
              "          docLink.innerHTML = docLinkHtml;\n",
              "          element.appendChild(docLink);\n",
              "        }\n",
              "      </script>\n",
              "    </div>\n",
              "  </div>\n",
              "  "
            ]
          },
          "metadata": {},
          "execution_count": 15
        }
      ],
      "source": [
        "data.head()"
      ]
    },
    {
      "cell_type": "markdown",
      "metadata": {
        "id": "wwDTOCGwTVPo"
      },
      "source": [
        "## order Method + Accept + Accept-encoding + language + User-Agent+ URL\n"
      ]
    },
    {
      "cell_type": "code",
      "execution_count": 16,
      "metadata": {
        "id": "I-j3KXZG9trf"
      },
      "outputs": [],
      "source": [
        "padded=tokenizer.texts_to_sequences(x_data)"
      ]
    },
    {
      "cell_type": "code",
      "execution_count": 17,
      "metadata": {
        "colab": {
          "base_uri": "https://localhost:8080/"
        },
        "id": "DYlQsmT4Leto",
        "outputId": "468819dc-aad9-45b0-920d-b982f1a333c8"
      },
      "outputs": [
        {
          "output_type": "execute_result",
          "data": {
            "text/plain": [
              "58"
            ]
          },
          "metadata": {},
          "execution_count": 17
        }
      ],
      "source": [
        "len(padded[0])\n"
      ]
    },
    {
      "cell_type": "code",
      "execution_count": 18,
      "metadata": {
        "id": "mO7K51l8Lnpy"
      },
      "outputs": [],
      "source": [
        "padded=pad_sequences(padded)"
      ]
    },
    {
      "cell_type": "code",
      "execution_count": 19,
      "metadata": {
        "colab": {
          "base_uri": "https://localhost:8080/"
        },
        "id": "binQxMg6OQ_i",
        "outputId": "f0b6efb4-185a-4044-e08f-495c150db48b"
      },
      "outputs": [
        {
          "output_type": "stream",
          "name": "stdout",
          "text": [
            "211 (61065, 211)\n"
          ]
        }
      ],
      "source": [
        "input_len=padded.shape[1]\n",
        "print(input_len,padded.shape)"
      ]
    },
    {
      "cell_type": "code",
      "execution_count": 20,
      "metadata": {
        "id": "HIVltTRjcylC"
      },
      "outputs": [],
      "source": [
        "padded=np.reshape(padded,(-1,padded.shape[1],1))"
      ]
    },
    {
      "cell_type": "code",
      "execution_count": 21,
      "metadata": {
        "colab": {
          "base_uri": "https://localhost:8080/"
        },
        "id": "F3d4LrK3Y5zQ",
        "outputId": "0e901234-775d-4905-f86d-15171eec28bc"
      },
      "outputs": [
        {
          "output_type": "stream",
          "name": "stdout",
          "text": [
            "Model: \"model\"\n",
            "_________________________________________________________________\n",
            " Layer (type)                Output Shape              Param #   \n",
            "=================================================================\n",
            " input_1 (InputLayer)        [(None, 211)]             0         \n",
            "                                                                 \n",
            " embedding (Embedding)       (None, 211, 50)           1729700   \n",
            "                                                                 \n",
            " dropout (Dropout)           (None, 211, 50)           0         \n",
            "                                                                 \n",
            " conv1d (Conv1D)             (None, 209, 250)          37750     \n",
            "                                                                 \n",
            " global_max_pooling1d (Globa  (None, 250)              0         \n",
            " lMaxPooling1D)                                                  \n",
            "                                                                 \n",
            " dense (Dense)               (None, 250)               62750     \n",
            "                                                                 \n",
            " dropout_1 (Dropout)         (None, 250)               0         \n",
            "                                                                 \n",
            " dense_1 (Dense)             (None, 2)                 502       \n",
            "                                                                 \n",
            "=================================================================\n",
            "Total params: 1,830,702\n",
            "Trainable params: 1,830,702\n",
            "Non-trainable params: 0\n",
            "_________________________________________________________________\n"
          ]
        }
      ],
      "source": [
        "import tensorflow as tf\n",
        "\n",
        "# Define the input shape\n",
        "input_shape = (input_len,)\n",
        "\n",
        "# Define the model architecture\n",
        "inputs = tf.keras.Input(shape=input_shape)\n",
        "x = tf.keras.layers.Embedding(vocab_size+1, 50, input_length=input_len)(inputs)\n",
        "x = tf.keras.layers.Dropout(rate=0.2)(x)\n",
        "x = tf.keras.layers.Conv1D(filters=250, kernel_size=3, activation='relu', padding='valid')(x)\n",
        "x = tf.keras.layers.GlobalMaxPooling1D()(x)\n",
        "x = tf.keras.layers.Dense(units=250, activation='relu')(x)\n",
        "x = tf.keras.layers.Dropout(rate=0.2)(x)\n",
        "outputs = tf.keras.layers.Dense(units=2, activation='softmax')(x)\n",
        "\n",
        "# Define the model\n",
        "model = tf.keras.Model(inputs=inputs, outputs=outputs)\n",
        "\n",
        "# Compile the model\n",
        "model.compile(optimizer='adam', loss='categorical_crossentropy', metrics=['accuracy'])\n",
        "\n",
        "# Print the model summary\n",
        "model.summary()\n",
        "\n"
      ]
    },
    {
      "cell_type": "code",
      "execution_count": 22,
      "metadata": {
        "colab": {
          "base_uri": "https://localhost:8080/"
        },
        "id": "EGKzFifjwD2O",
        "outputId": "dd82d822-8bd6-4e82-fdf5-c6db55129c61"
      },
      "outputs": [
        {
          "output_type": "stream",
          "name": "stdout",
          "text": [
            "/content/drive/MyDrive/dataset\n"
          ]
        }
      ],
      "source": [
        "%cd \"/content/drive/MyDrive/dataset\""
      ]
    },
    {
      "cell_type": "code",
      "execution_count": 23,
      "metadata": {
        "colab": {
          "base_uri": "https://localhost:8080/",
          "height": 865
        },
        "id": "B5U5Bzmvvgjy",
        "outputId": "5849ac4b-9d26-4d06-d6d1-2ad4953528d3"
      },
      "outputs": [
        {
          "output_type": "execute_result",
          "data": {
            "image/png": "[encoded data removed]",
            "text/plain": [
              "<IPython.core.display.Image object>"
            ]
          },
          "metadata": {},
          "execution_count": 23
        }
      ],
      "source": [
        "from tensorflow.keras.utils import plot_model\n",
        "\n",
        "\n",
        "plot_model(model,show_shapes=True)"
      ]
    },
    {
      "cell_type": "code",
      "source": [
        "dt['type'].unique"
      ],
      "metadata": {
        "colab": {
          "base_uri": "https://localhost:8080/"
        },
        "id": "cgSSxb1CVRbw",
        "outputId": "3d37f18f-71a4-4fae-b392-7c7bf59dfc5e"
      },
      "execution_count": 24,
      "outputs": [
        {
          "output_type": "execute_result",
          "data": {
            "text/plain": [
              "<bound method Series.unique of 0           Normal\n",
              "1           Normal\n",
              "2           Normal\n",
              "3           Normal\n",
              "4           Normal\n",
              "           ...    \n",
              "61060    Anomalous\n",
              "61061    Anomalous\n",
              "61062    Anomalous\n",
              "61063    Anomalous\n",
              "61064    Anomalous\n",
              "Name: type, Length: 61065, dtype: object>"
            ]
          },
          "metadata": {},
          "execution_count": 24
        }
      ]
    },
    {
      "cell_type": "code",
      "execution_count": 25,
      "metadata": {
        "id": "1xvkuZtVOhxU",
        "colab": {
          "base_uri": "https://localhost:8080/"
        },
        "outputId": "8a7a89bd-1c6b-499e-8f7e-8ed56ddba650"
      },
      "outputs": [
        {
          "output_type": "stream",
          "name": "stdout",
          "text": [
            "Normal value :  [1]\n",
            "Anomalous value :  [0]\n"
          ]
        }
      ],
      "source": [
        "from tensorflow.keras.utils import to_categorical\n",
        "from sklearn.preprocessing import LabelEncoder\n",
        "\n",
        "en=LabelEncoder()\n",
        "en.fit(dt['type'])\n",
        "print('Normal',\"value : \",en.transform(['Normal']))\n",
        "print('Anomalous',\"value : \",en.transform(['Anomalous']))\n",
        "z=en.transform(dt['type'])\n",
        "\n",
        "y=to_categorical(z)"
      ]
    },
    {
      "cell_type": "code",
      "execution_count": 26,
      "metadata": {
        "colab": {
          "base_uri": "https://localhost:8080/"
        },
        "id": "2GNblRUYi1p7",
        "outputId": "5cdede74-34e1-4d26-8d24-b0c9266b6822"
      },
      "outputs": [
        {
          "output_type": "execute_result",
          "data": {
            "text/plain": [
              "array([[0., 1.],\n",
              "       [0., 1.],\n",
              "       [0., 1.],\n",
              "       ...,\n",
              "       [1., 0.],\n",
              "       [1., 0.],\n",
              "       [1., 0.]], dtype=float32)"
            ]
          },
          "metadata": {},
          "execution_count": 26
        }
      ],
      "source": [
        "y"
      ]
    },
    {
      "cell_type": "markdown",
      "source": [
        "# normal =[0,1] and anomalous=[1,0]"
      ],
      "metadata": {
        "id": "5VwIyX-MWU4I"
      }
    },
    {
      "cell_type": "code",
      "execution_count": 27,
      "metadata": {
        "id": "d7pxk86dl5et"
      },
      "outputs": [],
      "source": [
        "from sklearn.model_selection import train_test_split\n",
        "\n",
        "X_train, X_test, y_train, y_test = train_test_split(padded, y, test_size=0.4, random_state=42,stratify=y,shuffle=True)\n",
        "x_val,x_test,y_val,y_test=train_test_split(X_test,y_test,test_size=0.5,random_state=42,stratify=y_test,shuffle=True)\n"
      ]
    },
    {
      "cell_type": "code",
      "source": [
        "epochs=50"
      ],
      "metadata": {
        "id": "SHzUxClo40wY"
      },
      "execution_count": 28,
      "outputs": []
    },
    {
      "cell_type": "code",
      "execution_count": 29,
      "metadata": {
        "colab": {
          "base_uri": "https://localhost:8080/"
        },
        "id": "ooMef9B5R2iR",
        "outputId": "4a008c73-10bd-4114-ae9e-4fa114e77c47"
      },
      "outputs": [
        {
          "output_type": "stream",
          "name": "stdout",
          "text": [
            "Epoch 1/50\n",
            "37/37 [==============================] - 19s 202ms/step - loss: 0.6351 - accuracy: 0.6132 - val_loss: 0.5128 - val_accuracy: 0.7144\n",
            "Epoch 2/50\n",
            "37/37 [==============================] - 7s 203ms/step - loss: 0.3672 - accuracy: 0.7879 - val_loss: 0.2611 - val_accuracy: 0.8399\n",
            "Epoch 3/50\n",
            "37/37 [==============================] - 6s 174ms/step - loss: 0.2491 - accuracy: 0.8502 - val_loss: 0.2471 - val_accuracy: 0.8315\n",
            "Epoch 4/50\n",
            "37/37 [==============================] - 9s 250ms/step - loss: 0.2280 - accuracy: 0.8600 - val_loss: 0.2381 - val_accuracy: 0.8615\n",
            "Epoch 5/50\n",
            "37/37 [==============================] - 5s 134ms/step - loss: 0.2202 - accuracy: 0.8616 - val_loss: 0.2441 - val_accuracy: 0.8435\n",
            "Epoch 6/50\n",
            "37/37 [==============================] - 7s 185ms/step - loss: 0.2173 - accuracy: 0.8619 - val_loss: 0.2406 - val_accuracy: 0.8569\n",
            "Epoch 7/50\n",
            "37/37 [==============================] - 5s 133ms/step - loss: 0.2153 - accuracy: 0.8651 - val_loss: 0.2430 - val_accuracy: 0.8646\n",
            "Epoch 8/50\n",
            "37/37 [==============================] - 5s 131ms/step - loss: 0.2142 - accuracy: 0.8644 - val_loss: 0.2427 - val_accuracy: 0.8645\n",
            "Epoch 9/50\n",
            "37/37 [==============================] - 6s 146ms/step - loss: 0.2132 - accuracy: 0.8670 - val_loss: 0.2377 - val_accuracy: 0.8630\n",
            "Epoch 10/50\n",
            "37/37 [==============================] - 5s 127ms/step - loss: 0.2127 - accuracy: 0.8672 - val_loss: 0.2385 - val_accuracy: 0.8659\n",
            "Epoch 11/50\n",
            "37/37 [==============================] - 6s 158ms/step - loss: 0.2118 - accuracy: 0.8663 - val_loss: 0.2428 - val_accuracy: 0.8656\n",
            "Epoch 12/50\n",
            "37/37 [==============================] - 5s 131ms/step - loss: 0.2111 - accuracy: 0.8676 - val_loss: 0.2431 - val_accuracy: 0.8625\n",
            "Epoch 13/50\n",
            "37/37 [==============================] - 4s 107ms/step - loss: 0.2112 - accuracy: 0.8675 - val_loss: 0.2506 - val_accuracy: 0.8644\n",
            "Epoch 14/50\n",
            "37/37 [==============================] - 5s 136ms/step - loss: 0.2109 - accuracy: 0.8680 - val_loss: 0.2412 - val_accuracy: 0.8602\n",
            "Epoch 15/50\n",
            "37/37 [==============================] - 4s 121ms/step - loss: 0.2108 - accuracy: 0.8685 - val_loss: 0.2472 - val_accuracy: 0.8655\n",
            "Epoch 16/50\n",
            "37/37 [==============================] - 3s 89ms/step - loss: 0.2108 - accuracy: 0.8686 - val_loss: 0.2485 - val_accuracy: 0.8651\n",
            "Epoch 17/50\n",
            "37/37 [==============================] - 6s 154ms/step - loss: 0.2107 - accuracy: 0.8695 - val_loss: 0.2533 - val_accuracy: 0.8648\n",
            "Epoch 18/50\n",
            "37/37 [==============================] - 4s 106ms/step - loss: 0.2107 - accuracy: 0.8680 - val_loss: 0.2491 - val_accuracy: 0.8581\n",
            "Epoch 19/50\n",
            "37/37 [==============================] - 4s 100ms/step - loss: 0.2103 - accuracy: 0.8684 - val_loss: 0.2521 - val_accuracy: 0.8651\n",
            "Epoch 20/50\n",
            "37/37 [==============================] - 3s 82ms/step - loss: 0.2101 - accuracy: 0.8692 - val_loss: 0.2509 - val_accuracy: 0.8654\n",
            "Epoch 21/50\n",
            "37/37 [==============================] - 5s 130ms/step - loss: 0.2103 - accuracy: 0.8686 - val_loss: 0.2470 - val_accuracy: 0.8656\n",
            "Epoch 22/50\n",
            "37/37 [==============================] - 3s 87ms/step - loss: 0.2103 - accuracy: 0.8682 - val_loss: 0.2542 - val_accuracy: 0.8650\n",
            "Epoch 23/50\n",
            "37/37 [==============================] - 3s 87ms/step - loss: 0.2102 - accuracy: 0.8691 - val_loss: 0.2478 - val_accuracy: 0.8656\n",
            "Epoch 24/50\n",
            "37/37 [==============================] - 3s 88ms/step - loss: 0.2103 - accuracy: 0.8698 - val_loss: 0.2521 - val_accuracy: 0.8656\n",
            "Epoch 25/50\n",
            "37/37 [==============================] - 3s 87ms/step - loss: 0.2103 - accuracy: 0.8698 - val_loss: 0.2532 - val_accuracy: 0.8625\n",
            "Epoch 26/50\n",
            "37/37 [==============================] - 3s 90ms/step - loss: 0.2101 - accuracy: 0.8680 - val_loss: 0.2588 - val_accuracy: 0.8572\n",
            "Epoch 27/50\n",
            "37/37 [==============================] - 4s 96ms/step - loss: 0.2103 - accuracy: 0.8686 - val_loss: 0.2480 - val_accuracy: 0.8660\n",
            "Epoch 28/50\n",
            "37/37 [==============================] - 3s 80ms/step - loss: 0.2101 - accuracy: 0.8705 - val_loss: 0.2499 - val_accuracy: 0.8626\n",
            "Epoch 29/50\n",
            "37/37 [==============================] - 3s 81ms/step - loss: 0.2103 - accuracy: 0.8689 - val_loss: 0.2498 - val_accuracy: 0.8656\n",
            "Epoch 30/50\n",
            "37/37 [==============================] - 3s 90ms/step - loss: 0.2100 - accuracy: 0.8692 - val_loss: 0.2500 - val_accuracy: 0.8625\n",
            "Epoch 31/50\n",
            "37/37 [==============================] - 3s 69ms/step - loss: 0.2101 - accuracy: 0.8700 - val_loss: 0.2505 - val_accuracy: 0.8656\n",
            "Epoch 32/50\n",
            "37/37 [==============================] - 3s 87ms/step - loss: 0.2102 - accuracy: 0.8688 - val_loss: 0.2586 - val_accuracy: 0.8654\n",
            "Epoch 33/50\n",
            "37/37 [==============================] - 3s 78ms/step - loss: 0.2104 - accuracy: 0.8695 - val_loss: 0.2552 - val_accuracy: 0.8625\n",
            "Epoch 34/50\n",
            "37/37 [==============================] - 3s 91ms/step - loss: 0.2102 - accuracy: 0.8683 - val_loss: 0.2591 - val_accuracy: 0.8615\n",
            "Epoch 35/50\n",
            "37/37 [==============================] - 3s 80ms/step - loss: 0.2101 - accuracy: 0.8694 - val_loss: 0.2566 - val_accuracy: 0.8651\n",
            "Epoch 36/50\n",
            "37/37 [==============================] - 3s 80ms/step - loss: 0.2102 - accuracy: 0.8695 - val_loss: 0.2588 - val_accuracy: 0.8620\n",
            "Epoch 37/50\n",
            "37/37 [==============================] - 3s 80ms/step - loss: 0.2101 - accuracy: 0.8696 - val_loss: 0.2545 - val_accuracy: 0.8624\n",
            "Epoch 38/50\n",
            "37/37 [==============================] - 3s 95ms/step - loss: 0.2100 - accuracy: 0.8700 - val_loss: 0.2530 - val_accuracy: 0.8620\n",
            "Epoch 39/50\n",
            "37/37 [==============================] - 4s 100ms/step - loss: 0.2101 - accuracy: 0.8693 - val_loss: 0.2474 - val_accuracy: 0.8664\n",
            "Epoch 40/50\n",
            "37/37 [==============================] - 3s 84ms/step - loss: 0.2100 - accuracy: 0.8696 - val_loss: 0.2578 - val_accuracy: 0.8651\n",
            "Epoch 41/50\n",
            "37/37 [==============================] - 3s 76ms/step - loss: 0.2101 - accuracy: 0.8690 - val_loss: 0.2702 - val_accuracy: 0.8639\n",
            "Epoch 42/50\n",
            "37/37 [==============================] - 3s 91ms/step - loss: 0.2098 - accuracy: 0.8696 - val_loss: 0.2510 - val_accuracy: 0.8660\n",
            "Epoch 43/50\n",
            "37/37 [==============================] - 3s 73ms/step - loss: 0.2099 - accuracy: 0.8693 - val_loss: 0.2441 - val_accuracy: 0.8635\n",
            "Epoch 44/50\n",
            "37/37 [==============================] - 3s 69ms/step - loss: 0.2099 - accuracy: 0.8699 - val_loss: 0.2774 - val_accuracy: 0.8634\n",
            "Epoch 45/50\n",
            "37/37 [==============================] - 3s 72ms/step - loss: 0.2102 - accuracy: 0.8691 - val_loss: 0.2606 - val_accuracy: 0.8654\n",
            "Epoch 46/50\n",
            "37/37 [==============================] - 3s 91ms/step - loss: 0.2099 - accuracy: 0.8699 - val_loss: 0.2578 - val_accuracy: 0.8654\n",
            "Epoch 47/50\n",
            "37/37 [==============================] - 3s 77ms/step - loss: 0.2099 - accuracy: 0.8692 - val_loss: 0.2746 - val_accuracy: 0.8641\n",
            "Epoch 48/50\n",
            "37/37 [==============================] - 3s 70ms/step - loss: 0.2102 - accuracy: 0.8704 - val_loss: 0.2726 - val_accuracy: 0.8642\n",
            "Epoch 49/50\n",
            "37/37 [==============================] - 2s 68ms/step - loss: 0.2099 - accuracy: 0.8696 - val_loss: 0.2704 - val_accuracy: 0.8642\n",
            "Epoch 50/50\n",
            "37/37 [==============================] - 3s 79ms/step - loss: 0.2097 - accuracy: 0.8694 - val_loss: 0.2510 - val_accuracy: 0.8664\n"
          ]
        }
      ],
      "source": [
        "his=model.fit(X_train,y_train,validation_data=(x_val,y_val),verbose=1,batch_size=1000,epochs=epochs)"
      ]
    },
    {
      "cell_type": "code",
      "execution_count": 30,
      "metadata": {
        "colab": {
          "base_uri": "https://localhost:8080/"
        },
        "id": "cPhyd3vYb9y_",
        "outputId": "b2f66e2b-aa92-444b-c34c-ee26a32d677c"
      },
      "outputs": [
        {
          "output_type": "stream",
          "name": "stdout",
          "text": [
            "382/382 [==============================] - 2s 5ms/step - loss: 0.2761 - accuracy: 0.8502\n"
          ]
        }
      ],
      "source": [
        "score=model.evaluate(x_test,y_test,verbose=1)"
      ]
    },
    {
      "cell_type": "code",
      "execution_count": 31,
      "metadata": {
        "id": "nNLCBtvzb_do"
      },
      "outputs": [],
      "source": [
        "import matplotlib.pyplot as plt"
      ]
    },
    {
      "cell_type": "code",
      "execution_count": 32,
      "metadata": {
        "id": "VBRRfcs_pOgD"
      },
      "outputs": [],
      "source": [
        "x=np.arange(1,epochs+1,1)"
      ]
    },
    {
      "cell_type": "code",
      "execution_count": 33,
      "metadata": {
        "colab": {
          "base_uri": "https://localhost:8080/"
        },
        "id": "E5vZkLhAWx1n",
        "outputId": "2e3f504b-9e09-41af-9666-c561d1e945f7"
      },
      "outputs": [
        {
          "output_type": "execute_result",
          "data": {
            "text/plain": [
              "dict_keys(['loss', 'accuracy', 'val_loss', 'val_accuracy'])"
            ]
          },
          "metadata": {},
          "execution_count": 33
        }
      ],
      "source": [
        "his.history.keys()"
      ]
    },
    {
      "cell_type": "code",
      "execution_count": 37,
      "metadata": {
        "colab": {
          "base_uri": "https://localhost:8080/",
          "height": 281
        },
        "id": "9QhvJKPfr2rm",
        "outputId": "8f8c2a34-0187-4511-ac85-38d82f8454b4"
      },
      "outputs": [
        {
          "output_type": "display_data",
          "data": {
            "text/plain": [
              "<Figure size 432x288 with 1 Axes>"
            ],
            "image/png": "[encoded data removed]"
          },
          "metadata": {
            "needs_background": "light"
          }
        }
      ],
      "source": [
        "plt.plot(x,his.history['accuracy'],label='training accuracy')\n",
        "plt.plot(x,his.history['val_accuracy'],label='validation accuracy')\n",
        "plt.legend(loc='best')\n",
        "plt.title('epochs vs accuracy')\n",
        "plt.savefig('accuracy_vs_epochs.jpg')\n",
        "plt.show()"
      ]
    },
    {
      "cell_type": "code",
      "execution_count": 38,
      "metadata": {
        "colab": {
          "base_uri": "https://localhost:8080/",
          "height": 281
        },
        "id": "XReosmMkxGe4",
        "outputId": "c86b0104-719c-42f3-8fe3-a8d652db034a"
      },
      "outputs": [
        {
          "output_type": "display_data",
          "data": {
            "text/plain": [
              "<Figure size 432x288 with 1 Axes>"
            ],
            "image/png": "[encoded data removed]"
          },
          "metadata": {
            "needs_background": "light"
          }
        }
      ],
      "source": [
        "plt.plot(x,his.history['loss'],label='training loss')\n",
        "plt.plot(x,his.history['val_loss'],label='validation loss')\n",
        "plt.legend(loc='best')\n",
        "plt.title('epochs vs loss')\n",
        "plt.savefig('loss_vs_epochs.jpg')\n",
        "plt.show()"
      ]
    },
    {
      "cell_type": "code",
      "execution_count": 39,
      "metadata": {
        "id": "gu8mnBFaxN8A",
        "colab": {
          "base_uri": "https://localhost:8080/"
        },
        "outputId": "6224e52a-8ce2-4822-ad9c-df1aa1b18fb6"
      },
      "outputs": [
        {
          "output_type": "stream",
          "name": "stdout",
          "text": [
            "Keras weights file (<HDF5 file \"variables.h5\" (mode r+)>) saving:\n",
            "...layers\n",
            "......conv1d\n",
            ".........vars\n",
            "............0\n",
            "............1\n",
            "......dense\n",
            ".........vars\n",
            "............0\n",
            "............1\n",
            "......dense_1\n",
            ".........vars\n",
            "............0\n",
            "............1\n",
            "......dropout\n",
            ".........vars\n",
            "......dropout_1\n",
            ".........vars\n",
            "......embedding\n",
            ".........vars\n",
            "............0\n",
            "......global_max_pooling1d\n",
            ".........vars\n",
            "......input_layer\n",
            ".........vars\n",
            "...metrics\n",
            "......mean\n",
            ".........vars\n",
            "............0\n",
            "............1\n",
            "......mean_metric_wrapper\n",
            ".........vars\n",
            "............0\n",
            "............1\n",
            "...optimizer\n",
            "......vars\n",
            ".........0\n",
            ".........1\n",
            ".........10\n",
            ".........11\n",
            ".........12\n",
            ".........13\n",
            ".........14\n",
            ".........2\n",
            ".........3\n",
            ".........4\n",
            ".........5\n",
            ".........6\n",
            ".........7\n",
            ".........8\n",
            ".........9\n",
            "...vars\n",
            "Keras model archive saving:\n",
            "File Name                                             Modified             Size\n",
            "variables.h5                                   2023-03-07 14:12:22     22002136\n",
            "config.json                                    2023-03-07 14:12:22         3415\n",
            "metadata.json                                  2023-03-07 14:12:22           64\n"
          ]
        }
      ],
      "source": [
        "import pickle\n",
        "\n",
        "with open('model_pickle.pkl','wb') as f:\n",
        "  pickle.dump(model,f)\n",
        "\n",
        "\n",
        "with open('tokenizer.pkl','wb') as f:\n",
        "  pickle.dump(tokenizer,f)\n"
      ]
    },
    {
      "cell_type": "code",
      "source": [],
      "metadata": {
        "id": "Cq6PNqHU5lJz"
      },
      "execution_count": 36,
      "outputs": []
    }
  ],
  "metadata": {
    "accelerator": "GPU",
    "colab": {
      "provenance": []
    },
    "gpuClass": "standard",
    "kernelspec": {
      "display_name": "Python 3",
      "name": "python3"
    },
    "language_info": {
      "name": "python"
    }
  },
  "nbformat": 4,
  "nbformat_minor": 0
}